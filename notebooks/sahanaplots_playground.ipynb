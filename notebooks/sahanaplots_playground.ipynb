{
 "cells": [
  {
   "cell_type": "code",
   "execution_count": 1,
   "metadata": {},
   "outputs": [],
   "source": [
    "import sys \n",
    "sys.path.append('../')\n",
    "import matplotlib.pyplot as plt\n",
    "import numpy as np\n",
    "import pandas as pd\n",
    "import torch\n",
    "from sklearn import preprocessing\n",
    "from utils import utils\n",
    "from utils import models"
   ]
  },
  {
   "cell_type": "code",
   "execution_count": 2,
   "metadata": {},
   "outputs": [
    {
     "name": "stdout",
     "output_type": "stream",
     "text": [
      "Loading data...\n",
      "Loading historical data...\n"
     ]
    }
   ],
   "source": [
    "station = None\n",
    "test_date = \"2023/9/19\"\n",
    "# window_size = args.window_size\n",
    "daily = 1\n",
    "predictor = None\n",
    "hidden_units = 32\n",
    "learning_rate = 5e-3\n",
    "if predictor == None:\n",
    "    list_of_vars = [\"temp_min\", \"temp_max\", \"temp_mean\", \"station\"]\n",
    "    list_of_vars_2 = [\"temp_min\", \"temp_max\", \"temp_mean\", \"rainfall\", \"snow\", \"station\"]\n",
    "    list_of_vars_3 = [\"temp_min\", \"temp_max\", \"temp_mean\", \"hist_temp_min\", \"hist_temp_max\", \"hist_temp_mean\", \"station\"]\n",
    "    list_of_vars_4 = [\"temp_min\", \"temp_max\", \"temp_mean\", \"rainfall\", \"snow\", \"hist_temp_min\", \"hist_temp_max\",\n",
    "                        \"hist_temp_mean\", \"hist_rainfall\", \"hist_snow\", \"station\"]\n",
    "else:\n",
    "    list_of_vars =  [predictor, \"station\"]\n",
    "    list_of_vars_2 = [predictor, \"station\"]\n",
    "    list_of_vars_3 =  [predictor, \"station\"]\n",
    "    list_of_vars_4 = [predictor, \"station\"]\n",
    "names_models = {0 : [\"temp_min\", \"temp_min_hist\"], 1 : [\"temp_max\", \"temp_max_hist\"], 2 : [\"temp_mean\", \"temp_mean_hist\"], \n",
    "                3 : [\"rainfall\", \"rainfall_hist\"], 4 : [\"snow\", \"snow_hist\"]}\n",
    "loss_functions = {0 : torch.nn.MSELoss(), 1 : torch.nn.MSELoss(), 2 : torch.nn.MSELoss(),\n",
    "    3 : models.SpecialCrossEntropyLoss(), 4 : models.SpecialCrossEntropyLoss()}\n",
    "predictors_list = { 0 : [list_of_vars, list_of_vars_3], 1 : [list_of_vars, list_of_vars_3], 2 : [list_of_vars, list_of_vars_3],\n",
    "    3 : [list_of_vars_2, list_of_vars_4], 4 : [list_of_vars_2, list_of_vars_4]}\n",
    "test_processes = {0 : models.test_model, 1 : models.test_model, 2 : models.test_model,\n",
    "    3 : models.test_model_classifier, 4 : models.test_model_classifier}\n",
    "model_path = \"../models/lstm/\"\n",
    "\n",
    "# Load data\n",
    "print(\"Loading data...\")\n",
    "data = utils.load_data(daily, station)\n",
    "train_data_pd, test_data_pd = models.train_test_split(data, test_date, daily)\n",
    "\n",
    "# Load historical data\n",
    "print(\"Loading historical data...\")\n",
    "historical_data = utils.load_data_with_historical(daily, station)\n",
    "train_data_hist_pd, test_data_hist_pd = models.train_test_split(historical_data, test_date, daily)"
   ]
  },
  {
   "cell_type": "markdown",
   "metadata": {},
   "source": [
    "Window size plots"
   ]
  },
  {
   "cell_type": "code",
   "execution_count": 50,
   "metadata": {},
   "outputs": [
    {
     "name": "stdout",
     "output_type": "stream",
     "text": [
      "Using window size 7, Training model temp_min...\n",
      "Epoch: 0, Loss: 77.2162501339985\n",
      "Epoch: 10, Loss: 14.95325940514579\n",
      "Using window size 7, TEST LOSS for model temp_min : 3.7464937909823757\n",
      "Using window size 7, Training model temp_max...\n",
      "Epoch: 0, Loss: 175.5489679617325\n",
      "Epoch: 10, Loss: 18.22970817294823\n",
      "Using window size 7, TEST LOSS for model temp_max : 4.378316992819342\n",
      "Using window size 7, Training model temp_mean...\n",
      "Epoch: 0, Loss: 106.65907720381838\n",
      "Epoch: 10, Loss: 14.461049380036174\n",
      "Using window size 7, TEST LOSS for model temp_mean : 3.379084525575053\n",
      "Using window size 14, Training model temp_min...\n",
      "Epoch: 0, Loss: 66.11404781535192\n",
      "Epoch: 10, Loss: 15.136192384710167\n",
      "Using window size 14, TEST LOSS for model temp_min : 3.8423846427112407\n",
      "Using window size 14, Training model temp_max...\n",
      "Epoch: 0, Loss: 177.3319749202825\n",
      "Epoch: 10, Loss: 18.623246042861552\n",
      "Using window size 14, TEST LOSS for model temp_max : 4.428849847811937\n",
      "Using window size 14, Training model temp_mean...\n",
      "Epoch: 0, Loss: 103.55431155867988\n",
      "Epoch: 10, Loss: 14.344642433418235\n",
      "Using window size 14, TEST LOSS for model temp_mean : 3.5161081768776667\n",
      "Using window size 21, Training model temp_min...\n",
      "Epoch: 0, Loss: 72.98647047420444\n",
      "Epoch: 10, Loss: 15.226922025535313\n",
      "Using window size 21, TEST LOSS for model temp_min : 3.903923919763492\n",
      "Using window size 21, Training model temp_max...\n",
      "Epoch: 0, Loss: 195.2683025108376\n",
      "Epoch: 10, Loss: 18.493695278458183\n",
      "Using window size 21, TEST LOSS for model temp_max : 4.3607653977666985\n",
      "Using window size 21, Training model temp_mean...\n",
      "Epoch: 0, Loss: 110.55634926539388\n",
      "Epoch: 10, Loss: 13.905234177100477\n",
      "Using window size 21, TEST LOSS for model temp_mean : 3.5303906689670055\n",
      "Done training and testing models\n"
     ]
    }
   ],
   "source": [
    "window_sizes = [7, 14, 21]\n",
    "test_accs = {7: [], 14: [], 21: []}\n",
    "for window_size in window_sizes:\n",
    "    for i in range(3):\n",
    "        train_data= models.WindowDataset(train_data_pd[predictors_list[i][0]], window_size, 4, i)\n",
    "        train_loader = torch.utils.data.DataLoader(train_data, batch_size=32, shuffle=True)\n",
    "\n",
    "        test_data = models.WindowDataset(test_data_pd[predictors_list[i][0]], window_size, 4, i)\n",
    "        test_loader = torch.utils.data.DataLoader(test_data, batch_size=1, shuffle=False)\n",
    "        x, y = next(iter(train_loader))\n",
    "\n",
    "        # Create model\n",
    "        inputsize = x.shape[2]\n",
    "        model = models.LSTM(input_size=inputsize, hidden_size=hidden_units, output_size=4, num_layers=1, dropout=0.0)\n",
    "        loss_function = loss_functions[i]\n",
    "        optimizer = torch.optim.Adam(model.parameters(), lr=learning_rate)\n",
    "\n",
    "        # Train model\n",
    "        print(\"Using window size {}, Training model {}...\".format(window_size, names_models[i][0]))\n",
    "        models.train_loop(model, train_loader,  optimizer, loss_function, epochs=20)\n",
    "\n",
    "        # Test model\n",
    "        test_loss = test_processes[i](model, test_loader, loss_function)\n",
    "        print(\"Using window size {}, TEST LOSS for model {} : {}\".format(window_size, names_models[i][0], test_loss))\n",
    "        test_accs[window_size].append(test_loss)\n",
    "print(\"Done training and testing models\")"
   ]
  },
  {
   "cell_type": "code",
   "execution_count": 55,
   "metadata": {},
   "outputs": [],
   "source": [
    "df = pd.DataFrame(test_accs).set_index([pd.Index([\"temp_min\", \"temp_max\", \"temp_mean\"])])\n",
    "df = df.round(3)"
   ]
  },
  {
   "cell_type": "code",
   "execution_count": 58,
   "metadata": {},
   "outputs": [
    {
     "data": {
      "image/png": "[encoded data removed]",
      "text/plain": [
       "<Figure size 640x480 with 1 Axes>"
      ]
     },
     "metadata": {},
     "output_type": "display_data"
    }
   ],
   "source": [
    "x = np.arange(len(df.columns))  # the label locations\n",
    "width = 0.25  # the width of the bars\n",
    "multiplier = 0\n",
    "\n",
    "fig, ax = plt.subplots(layout='constrained')\n",
    "colors = ['#FFAEBC', '#A0E7E5', '#B4F8C8']\n",
    "\n",
    "for y in df:\n",
    "    offset = width * multiplier\n",
    "    rects = ax.bar(x + offset, df[y], width, label=y, color=colors[multiplier])\n",
    "    ax.bar_label(rects, padding=3)\n",
    "    multiplier += 1\n",
    "\n",
    "# Add some text for labels, title and custom x-axis tick labels, etc.\n",
    "ax.set_ylabel('Test Root Mean Squared Error')\n",
    "ax.set_title('Test Loss for different window sizes')\n",
    "ax.set_xticks(x + width, df.index)\n",
    "ax.legend(loc='upper left')\n",
    "ax.set_ylim(0, 5)\n",
    "\n",
    "plt.show()"
   ]
  },
  {
   "cell_type": "code",
   "execution_count": 42,
   "metadata": {},
   "outputs": [
    {
     "name": "stdout",
     "output_type": "stream",
     "text": [
      "7\n",
      "temp_min     3.784930\n",
      "temp_max     4.278943\n",
      "temp_mean    3.455606\n",
      "Name: 7, dtype: float64\n",
      "10\n",
      "temp_min     3.782300\n",
      "temp_max     4.409597\n",
      "temp_mean    3.404966\n",
      "Name: 10, dtype: float64\n",
      "14\n",
      "temp_min     3.821388\n",
      "temp_max     4.334453\n",
      "temp_mean    3.365763\n",
      "Name: 14, dtype: float64\n"
     ]
    }
   ],
   "source": [
    "for x in df:\n",
    "    print(x)\n",
    "    print(df[x])\n",
    "    # print(df[x])"
   ]
  }
 ],
 "metadata": {
  "kernelspec": {
   "display_name": "Python 3",
   "language": "python",
   "name": "python3"
  },
  "language_info": {
   "codemirror_mode": {
    "name": "ipython",
    "version": 3
   },
   "file_extension": ".py",
   "mimetype": "text/x-python",
   "name": "python",
   "nbconvert_exporter": "python",
   "pygments_lexer": "ipython3",
   "version": "3.10.13"
  }
 },
 "nbformat": 4,
 "nbformat_minor": 2
}
