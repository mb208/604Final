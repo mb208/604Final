{
 "cells": [
  {
   "cell_type": "markdown",
   "id": "c2bbe522-80b3-4554-8376-2c1aaf5b8ede",
   "metadata": {},
   "source": [
    "## GAM"
   ]
  },
  {
   "cell_type": "code",
   "execution_count": 67,
   "id": "2a1eeb7b-bb53-4a2e-bdae-dc2ddbd24f8c",
   "metadata": {},
   "outputs": [],
   "source": [
    "import numpy as np\n",
    "import pandas as pd \n",
    "import matplotlib.pyplot as plt\n",
    "import seaborn as sns\n",
    "import statsmodels.api as sm\n",
    "\n",
    "from pygam import LinearGAM, LogisticGAM"
   ]
  },
  {
   "cell_type": "code",
   "execution_count": 8,
   "id": "287097c2-9dba-4d5c-8c26-dd106966dfa0",
   "metadata": {},
   "outputs": [
    {
     "data": {
      "text/html": [
       "<div>\n",
       "<style scoped>\n",
       "    .dataframe tbody tr th:only-of-type {\n",
       "        vertical-align: middle;\n",
       "    }\n",
       "\n",
       "    .dataframe tbody tr th {\n",
       "        vertical-align: top;\n",
       "    }\n",
       "\n",
       "    .dataframe thead th {\n",
       "        text-align: right;\n",
       "    }\n",
       "</style>\n",
       "<table border=\"1\" class=\"dataframe\">\n",
       "  <thead>\n",
       "    <tr style=\"text-align: right;\">\n",
       "      <th></th>\n",
       "      <th>station</th>\n",
       "      <th>date</th>\n",
       "      <th>temp_max</th>\n",
       "      <th>temp_mean</th>\n",
       "      <th>temp_min</th>\n",
       "      <th>rainfall</th>\n",
       "      <th>snow</th>\n",
       "      <th>day_of_month</th>\n",
       "      <th>month</th>\n",
       "      <th>year</th>\n",
       "    </tr>\n",
       "  </thead>\n",
       "  <tbody>\n",
       "    <tr>\n",
       "      <th>0</th>\n",
       "      <td>72202</td>\n",
       "      <td>2013-11-22</td>\n",
       "      <td>26.7</td>\n",
       "      <td>25.957143</td>\n",
       "      <td>24.4</td>\n",
       "      <td>True</td>\n",
       "      <td>False</td>\n",
       "      <td>22</td>\n",
       "      <td>11</td>\n",
       "      <td>2013</td>\n",
       "    </tr>\n",
       "    <tr>\n",
       "      <th>1</th>\n",
       "      <td>72202</td>\n",
       "      <td>2013-11-23</td>\n",
       "      <td>27.2</td>\n",
       "      <td>25.033333</td>\n",
       "      <td>23.9</td>\n",
       "      <td>True</td>\n",
       "      <td>False</td>\n",
       "      <td>23</td>\n",
       "      <td>11</td>\n",
       "      <td>2013</td>\n",
       "    </tr>\n",
       "    <tr>\n",
       "      <th>2</th>\n",
       "      <td>72202</td>\n",
       "      <td>2013-11-24</td>\n",
       "      <td>28.3</td>\n",
       "      <td>24.620833</td>\n",
       "      <td>21.7</td>\n",
       "      <td>False</td>\n",
       "      <td>False</td>\n",
       "      <td>24</td>\n",
       "      <td>11</td>\n",
       "      <td>2013</td>\n",
       "    </tr>\n",
       "    <tr>\n",
       "      <th>3</th>\n",
       "      <td>72202</td>\n",
       "      <td>2013-11-25</td>\n",
       "      <td>25.6</td>\n",
       "      <td>23.179167</td>\n",
       "      <td>21.7</td>\n",
       "      <td>True</td>\n",
       "      <td>False</td>\n",
       "      <td>25</td>\n",
       "      <td>11</td>\n",
       "      <td>2013</td>\n",
       "    </tr>\n",
       "    <tr>\n",
       "      <th>4</th>\n",
       "      <td>72202</td>\n",
       "      <td>2013-11-26</td>\n",
       "      <td>27.2</td>\n",
       "      <td>25.016667</td>\n",
       "      <td>22.8</td>\n",
       "      <td>True</td>\n",
       "      <td>False</td>\n",
       "      <td>26</td>\n",
       "      <td>11</td>\n",
       "      <td>2013</td>\n",
       "    </tr>\n",
       "  </tbody>\n",
       "</table>\n",
       "</div>"
      ],
      "text/plain": [
       "  station        date  temp_max  temp_mean  temp_min  rainfall   snow  \\\n",
       "0   72202  2013-11-22      26.7  25.957143      24.4      True  False   \n",
       "1   72202  2013-11-23      27.2  25.033333      23.9      True  False   \n",
       "2   72202  2013-11-24      28.3  24.620833      21.7     False  False   \n",
       "3   72202  2013-11-25      25.6  23.179167      21.7      True  False   \n",
       "4   72202  2013-11-26      27.2  25.016667      22.8      True  False   \n",
       "\n",
       "   day_of_month  month  year  \n",
       "0            22     11  2013  \n",
       "1            23     11  2013  \n",
       "2            24     11  2013  \n",
       "3            25     11  2013  \n",
       "4            26     11  2013  "
      ]
     },
     "execution_count": 8,
     "metadata": {},
     "output_type": "execute_result"
    }
   ],
   "source": [
    "data = pd.read_csv('/Users/Bakso/Documents/git/604Final/data/daily_data.csv')\n",
    "data.dropna(inplace = True)\n",
    "\n",
    "data['day_of_month'] = pd.to_datetime(data['date']).dt.day\n",
    "data['month'] = pd.to_datetime(data['date']).dt.month\n",
    "data['year'] = pd.to_datetime(data['date']).dt.year\n",
    "\n",
    "data.head()"
   ]
  },
  {
   "cell_type": "code",
   "execution_count": 39,
   "id": "87a9ba75-2c57-44be-b8c2-6cdb7174cce0",
   "metadata": {},
   "outputs": [
    {
     "data": {
      "text/html": [
       "<div>\n",
       "<style scoped>\n",
       "    .dataframe tbody tr th:only-of-type {\n",
       "        vertical-align: middle;\n",
       "    }\n",
       "\n",
       "    .dataframe tbody tr th {\n",
       "        vertical-align: top;\n",
       "    }\n",
       "\n",
       "    .dataframe thead th {\n",
       "        text-align: right;\n",
       "    }\n",
       "</style>\n",
       "<table border=\"1\" class=\"dataframe\">\n",
       "  <thead>\n",
       "    <tr style=\"text-align: right;\">\n",
       "      <th></th>\n",
       "      <th>station</th>\n",
       "      <th>date</th>\n",
       "      <th>temp_max</th>\n",
       "      <th>temp_mean</th>\n",
       "      <th>temp_min</th>\n",
       "      <th>rainfall</th>\n",
       "      <th>snow</th>\n",
       "      <th>day_of_month</th>\n",
       "      <th>month</th>\n",
       "      <th>year</th>\n",
       "      <th>yest_temp_max</th>\n",
       "      <th>yest_temp_mean</th>\n",
       "      <th>yest_temp_min</th>\n",
       "      <th>yest_rainfall</th>\n",
       "      <th>yest_snow</th>\n",
       "    </tr>\n",
       "  </thead>\n",
       "  <tbody>\n",
       "    <tr>\n",
       "      <th>0</th>\n",
       "      <td>72202</td>\n",
       "      <td>2013-11-23</td>\n",
       "      <td>27.2</td>\n",
       "      <td>25.033333</td>\n",
       "      <td>23.9</td>\n",
       "      <td>True</td>\n",
       "      <td>False</td>\n",
       "      <td>23</td>\n",
       "      <td>11</td>\n",
       "      <td>2013</td>\n",
       "      <td>26.7</td>\n",
       "      <td>25.957143</td>\n",
       "      <td>24.4</td>\n",
       "      <td>True</td>\n",
       "      <td>False</td>\n",
       "    </tr>\n",
       "    <tr>\n",
       "      <th>1</th>\n",
       "      <td>72202</td>\n",
       "      <td>2013-11-24</td>\n",
       "      <td>28.3</td>\n",
       "      <td>24.620833</td>\n",
       "      <td>21.7</td>\n",
       "      <td>False</td>\n",
       "      <td>False</td>\n",
       "      <td>24</td>\n",
       "      <td>11</td>\n",
       "      <td>2013</td>\n",
       "      <td>27.2</td>\n",
       "      <td>25.033333</td>\n",
       "      <td>23.9</td>\n",
       "      <td>True</td>\n",
       "      <td>False</td>\n",
       "    </tr>\n",
       "    <tr>\n",
       "      <th>2</th>\n",
       "      <td>72202</td>\n",
       "      <td>2013-11-25</td>\n",
       "      <td>25.6</td>\n",
       "      <td>23.179167</td>\n",
       "      <td>21.7</td>\n",
       "      <td>True</td>\n",
       "      <td>False</td>\n",
       "      <td>25</td>\n",
       "      <td>11</td>\n",
       "      <td>2013</td>\n",
       "      <td>28.3</td>\n",
       "      <td>24.620833</td>\n",
       "      <td>21.7</td>\n",
       "      <td>False</td>\n",
       "      <td>False</td>\n",
       "    </tr>\n",
       "    <tr>\n",
       "      <th>3</th>\n",
       "      <td>72202</td>\n",
       "      <td>2013-11-26</td>\n",
       "      <td>27.2</td>\n",
       "      <td>25.016667</td>\n",
       "      <td>22.8</td>\n",
       "      <td>True</td>\n",
       "      <td>False</td>\n",
       "      <td>26</td>\n",
       "      <td>11</td>\n",
       "      <td>2013</td>\n",
       "      <td>25.6</td>\n",
       "      <td>23.179167</td>\n",
       "      <td>21.7</td>\n",
       "      <td>True</td>\n",
       "      <td>False</td>\n",
       "    </tr>\n",
       "    <tr>\n",
       "      <th>4</th>\n",
       "      <td>72202</td>\n",
       "      <td>2013-11-27</td>\n",
       "      <td>26.1</td>\n",
       "      <td>24.012500</td>\n",
       "      <td>21.7</td>\n",
       "      <td>True</td>\n",
       "      <td>False</td>\n",
       "      <td>27</td>\n",
       "      <td>11</td>\n",
       "      <td>2013</td>\n",
       "      <td>27.2</td>\n",
       "      <td>25.016667</td>\n",
       "      <td>22.8</td>\n",
       "      <td>True</td>\n",
       "      <td>False</td>\n",
       "    </tr>\n",
       "  </tbody>\n",
       "</table>\n",
       "</div>"
      ],
      "text/plain": [
       "  station        date  temp_max  temp_mean  temp_min  rainfall   snow  \\\n",
       "0   72202  2013-11-23      27.2  25.033333      23.9      True  False   \n",
       "1   72202  2013-11-24      28.3  24.620833      21.7     False  False   \n",
       "2   72202  2013-11-25      25.6  23.179167      21.7      True  False   \n",
       "3   72202  2013-11-26      27.2  25.016667      22.8      True  False   \n",
       "4   72202  2013-11-27      26.1  24.012500      21.7      True  False   \n",
       "\n",
       "   day_of_month  month  year  yest_temp_max  yest_temp_mean  yest_temp_min  \\\n",
       "0            23     11  2013           26.7       25.957143           24.4   \n",
       "1            24     11  2013           27.2       25.033333           23.9   \n",
       "2            25     11  2013           28.3       24.620833           21.7   \n",
       "3            26     11  2013           25.6       23.179167           21.7   \n",
       "4            27     11  2013           27.2       25.016667           22.8   \n",
       "\n",
       "  yest_rainfall yest_snow  \n",
       "0          True     False  \n",
       "1          True     False  \n",
       "2         False     False  \n",
       "3          True     False  \n",
       "4          True     False  "
      ]
     },
     "execution_count": 39,
     "metadata": {},
     "output_type": "execute_result"
    }
   ],
   "source": [
    "data1 = data.iloc[1:].reset_index(drop=True)\n",
    "\n",
    "# Add 5 columns for yesterday's weather: 'yest_temp_max', 'yest_temp_mean', 'yest_temp_min', 'yest_rainfall', 'yest_snow'\n",
    "data1['yest_temp_max'] = data['temp_max'].shift(1)[1:].reset_index(drop=True)\n",
    "data1['yest_temp_mean'] = data['temp_mean'].shift(1)[1:].reset_index(drop=True)\n",
    "data1['yest_temp_min'] = data['temp_min'].shift(1)[1:].reset_index(drop=True)\n",
    "data1['yest_rainfall'] = data['rainfall'].shift(1)[1:].reset_index(drop=True)\n",
    "data1['yest_snow'] = data['snow'].shift(1)[1:].reset_index(drop=True)\n",
    "\n",
    "# Display the modified dataframe\n",
    "data1.head()"
   ]
  },
  {
   "cell_type": "markdown",
   "id": "b5d3ced0-621d-40f3-99e4-d04bea9e4cb4",
   "metadata": {},
   "source": [
    "### Mean Temp Model "
   ]
  },
  {
   "cell_type": "code",
   "execution_count": 79,
   "id": "7fd9035b-5b30-47ca-84b8-005547a3b328",
   "metadata": {},
   "outputs": [],
   "source": [
    "test_size = 10\n",
    "data1['station'] = data1['station'].astype('category', copy=True).cat.codes\n",
    "train_data = data1[:-test_size]\n",
    "test_data = data1[-test_size:]\n",
    "\n",
    "y = train_data['temp_mean']\n",
    "X = train_data[['day_of_month', 'month', 'year', 'yest_temp_mean', 'station']]\n",
    "X_test = test_data[['day_of_month', 'month', 'year', 'yest_temp_mean', 'station']]\n",
    "y_test = test_data['temp_mean']"
   ]
  },
  {
   "cell_type": "code",
   "execution_count": 50,
   "id": "f6fc9bee-fdbd-45a2-920f-155ac1aefa55",
   "metadata": {},
   "outputs": [],
   "source": [
    "gam = LinearGAM().fit(X,y)"
   ]
  },
  {
   "cell_type": "code",
   "execution_count": 51,
   "id": "f56cab78-a934-448a-837f-f9da1725eb1d",
   "metadata": {},
   "outputs": [],
   "source": [
    "predictions = gam.predict(X_test)"
   ]
  },
  {
   "cell_type": "code",
   "execution_count": 54,
   "id": "1a162b59-7338-41b5-a0ac-854b5cf93328",
   "metadata": {},
   "outputs": [
    {
     "data": {
      "image/png": "[encoded data removed]",
      "text/plain": [
       "<Figure size 1200x600 with 1 Axes>"
      ]
     },
     "metadata": {},
     "output_type": "display_data"
    }
   ],
   "source": [
    "plt.figure(figsize=(12, 6))\n",
    "plt.plot(predictions, label='Predicted Temperature', color='blue', marker='o')\n",
    "plt.plot(y_test.values, label='Actual Temperature', color='red', marker='x')\n",
    "plt.title('GAM Predictions vs Actual Temperatures for 30 Days')\n",
    "plt.xlabel('Day')\n",
    "plt.ylabel('Temperature')\n",
    "plt.legend()\n",
    "plt.show()"
   ]
  },
  {
   "cell_type": "code",
   "execution_count": 53,
   "id": "e5b0fbc8-24d0-41e9-868b-347174dc6edb",
   "metadata": {},
   "outputs": [
    {
     "data": {
      "text/plain": [
       "4.900263114045378"
      ]
     },
     "execution_count": 53,
     "metadata": {},
     "output_type": "execute_result"
    }
   ],
   "source": [
    "from sklearn.metrics import mean_squared_error\n",
    "rmse = np.sqrt(mean_squared_error(np.array(y_test), predictions))\n",
    "rmse"
   ]
  },
  {
   "cell_type": "code",
   "execution_count": null,
   "id": "bb81c590-561f-40cb-82c5-ad8256aa0082",
   "metadata": {},
   "outputs": [],
   "source": [
    "pdeps,confi = gam.partial_dependence(term =1 ,width=0.95)\n",
    "\n",
    "plt.figure(figsize=(10, 6))\n",
    "plt.plot(X_test.iloc[:,1], pdeps, color='blue', lw=2)\n",
    "plt.fill_between(X_test.iloc[:,1], confi[:, 0], confi[:, 1], color='blue', alpha=0.2)\n",
    "plt.title('Partial Dependence Plot for term 1')\n",
    "plt.xlabel('Feature value')\n",
    "plt.ylabel('Partial dependence')\n",
    "plt.show()\n"
   ]
  },
  {
   "cell_type": "markdown",
   "id": "d34d8098-9ad6-4873-91d8-034bd0f9b4c9",
   "metadata": {},
   "source": [
    "## Snow "
   ]
  },
  {
   "cell_type": "code",
   "execution_count": 80,
   "id": "d78fc310-d667-4712-a3b1-295193d13bce",
   "metadata": {},
   "outputs": [],
   "source": [
    "ys = train_data['snow']\n",
    "Xs = train_data[['day_of_month', 'month', 'year', 'yest_snow', 'station']]\n",
    "Xs_test = test_data[['day_of_month', 'month', 'year', 'yest_snow', 'station']]\n",
    "ys_test = test_data['snow'].astype(int)"
   ]
  },
  {
   "cell_type": "code",
   "execution_count": 81,
   "id": "120bc5d7-1127-4051-8774-21cec18cd349",
   "metadata": {},
   "outputs": [],
   "source": [
    "gam_snow = LogisticGAM().fit(Xs, ys)"
   ]
  },
  {
   "cell_type": "code",
   "execution_count": 90,
   "id": "fae2d222-57f8-4c1f-8b99-a444c18bc687",
   "metadata": {},
   "outputs": [],
   "source": [
    "snow_pred = (gam_snow.predict(Xs_test)>0.5).astype(int)"
   ]
  },
  {
   "cell_type": "code",
   "execution_count": 91,
   "id": "c5241bf2-0e83-4f67-bc7a-e58ea6001305",
   "metadata": {},
   "outputs": [
    {
     "data": {
      "text/plain": [
       "array([0, 0, 0, 0, 0, 0, 0, 0, 0, 0])"
      ]
     },
     "execution_count": 91,
     "metadata": {},
     "output_type": "execute_result"
    }
   ],
   "source": [
    "snow_pred "
   ]
  },
  {
   "cell_type": "code",
   "execution_count": 92,
   "id": "7ef446dd-0d8d-414c-973e-ca37ab9b5513",
   "metadata": {},
   "outputs": [
    {
     "data": {
      "text/plain": [
       "0.5"
      ]
     },
     "execution_count": 92,
     "metadata": {},
     "output_type": "execute_result"
    }
   ],
   "source": [
    "accuracy = np.mean(snow_pred == ys_test)\n",
    "accuracy"
   ]
  },
  {
   "cell_type": "markdown",
   "id": "7a658b48-776b-4c03-ad8d-fa47ce821aae",
   "metadata": {
    "tags": []
   },
   "source": [
    "## Rain"
   ]
  },
  {
   "cell_type": "code",
   "execution_count": 86,
   "id": "76a9f772-92ff-411e-a015-e407b6ec4fe4",
   "metadata": {},
   "outputs": [],
   "source": [
    "yr = train_data['rainfall']\n",
    "Xr = train_data[['day_of_month', 'month', 'year', 'yest_rainfall', 'station']]\n",
    "Xr_test = test_data[['day_of_month', 'month', 'year', 'yest_rainfall', 'station']]\n",
    "yr_test = test_data['rainfall'].astype(int)"
   ]
  },
  {
   "cell_type": "code",
   "execution_count": 87,
   "id": "47c2cb5b-d9c1-4382-8f50-fa57f9b15d50",
   "metadata": {},
   "outputs": [],
   "source": [
    "gam_rain = LogisticGAM().fit(Xr, yr)"
   ]
  },
  {
   "cell_type": "code",
   "execution_count": 88,
   "id": "9e1290cd-a3b1-43d1-9043-202c128499db",
   "metadata": {},
   "outputs": [],
   "source": [
    "rain_pred = (gam_rain.predict(Xr_test)>0.5).astype(int)"
   ]
  },
  {
   "cell_type": "code",
   "execution_count": 89,
   "id": "1ad7a138-c701-4712-ad92-946a4127a45e",
   "metadata": {},
   "outputs": [
    {
     "data": {
      "text/plain": [
       "0.5"
      ]
     },
     "execution_count": 89,
     "metadata": {},
     "output_type": "execute_result"
    }
   ],
   "source": [
    "accuracy = np.mean(rain_pred == yr_test)\n",
    "accuracy"
   ]
  },
  {
   "cell_type": "code",
   "execution_count": null,
   "id": "ab3f0b59-ae93-4a26-bce8-81594963d189",
   "metadata": {},
   "outputs": [],
   "source": []
  }
 ],
 "metadata": {
  "kernelspec": {
   "display_name": "Python 3 (ipykernel)",
   "language": "python",
   "name": "python3"
  },
  "language_info": {
   "codemirror_mode": {
    "name": "ipython",
    "version": 3
   },
   "file_extension": ".py",
   "mimetype": "text/x-python",
   "name": "python",
   "nbconvert_exporter": "python",
   "pygments_lexer": "ipython3",
   "version": "3.9.12"
  }
 },
 "nbformat": 4,
 "nbformat_minor": 5
}
