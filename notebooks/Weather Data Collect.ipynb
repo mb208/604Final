{
 "cells": [
  {
   "cell_type": "markdown",
   "id": "13f943f0-bac5-403c-bd58-ff3df42f0188",
   "metadata": {},
   "source": [
    "## Using NOAA api"
   ]
  },
  {
   "cell_type": "code",
   "execution_count": null,
   "id": "cc5e7436-f2bd-4926-8b34-1a60a80a177d",
   "metadata": {},
   "outputs": [],
   "source": [
    "# from noaa_sdk import NOAA\n",
    "import requests\n",
    "import pandas as pd \n",
    "import numpy as np\n",
    "import datetime"
   ]
  },
  {
   "cell_type": "code",
   "execution_count": 3,
   "id": "53acc574",
   "metadata": {},
   "outputs": [],
   "source": [
    "def get_noaa_data(api_key, dataset_id, station_id, start_date, end_date):\n",
    "    base_url = \"https://www.ncdc.noaa.gov/cdo-web/api/v2/data\"\n",
    "    params = {\n",
    "        \"datasetid\": dataset_id,\n",
    "        \"stationid\": station_id,\n",
    "        \"startdate\": start_date,\n",
    "        \"enddate\": end_date,\n",
    "        \"units\": \"metric\",\n",
    "        \"limit\": 1000\n",
    "    }\n",
    "    headers = {\n",
    "        \"token\": api_key\n",
    "    }\n",
    "    response = requests.get(base_url, headers=headers, params=params)\n",
    "    return response.json()"
   ]
  },
  {
   "cell_type": "code",
   "execution_count": 79,
   "id": "6f714b04",
   "metadata": {},
   "outputs": [],
   "source": [
    "station_id = \"GHCND:USC00200228\"\n",
    "fips_id = \"26161\"\n",
    "api_key = 'mVuthWQRHnBWzwoEgkijjFUMbRqsNvRh'\n",
    "dataset_id = \"GHCND\"\n",
    "startdate = \"2018-01-01\"\n",
    "enddate = \"2018-01-31\""
   ]
  },
  {
   "cell_type": "code",
   "execution_count": 80,
   "id": "93c1c596",
   "metadata": {},
   "outputs": [],
   "source": [
    "data = get_noaa_data(api_key=api_key, \n",
    "                     dataset_id=dataset_id,\n",
    "                     station_id=station_id,\n",
    "                     start_date=startdate,\n",
    "                     end_date=enddate\n",
    "                    )"
   ]
  },
  {
   "cell_type": "code",
   "execution_count": 81,
   "id": "8efee670",
   "metadata": {},
   "outputs": [],
   "source": [
    "df = pd.json_normalize(data, 'results')"
   ]
  },
  {
   "cell_type": "code",
   "execution_count": 82,
   "id": "a1631244",
   "metadata": {},
   "outputs": [
    {
     "data": {
      "text/plain": [
       "array(['PRCP', 'SNOW', 'SNWD', 'TMAX', 'TMIN', 'TOBS', 'WESD', 'WT01',\n",
       "       'WT06', 'WT04', 'WT11', 'WT03'], dtype=object)"
      ]
     },
     "execution_count": 82,
     "metadata": {},
     "output_type": "execute_result"
    }
   ],
   "source": [
    "df.datatype.unique()"
   ]
  },
  {
   "cell_type": "code",
   "execution_count": 32,
   "id": "9c7dfdbb",
   "metadata": {},
   "outputs": [
    {
     "name": "stdout",
     "output_type": "stream",
     "text": [
      "                  date datatype            station attributes  value\n",
      "0  2018-01-01T00:00:00     TAVG  GHCND:AE000041196      H,,S,    186\n",
      "1  2018-01-01T00:00:00     TMAX  GHCND:AE000041196       ,,S,    259\n",
      "2  2018-01-01T00:00:00     TMIN  GHCND:AE000041196       ,,S,    112\n",
      "3  2018-01-01T00:00:00     PRCP  GHCND:AEM00041194       ,,S,      0\n",
      "4  2018-01-01T00:00:00     TAVG  GHCND:AEM00041194      H,,S,    209\n"
     ]
    }
   ],
   "source": [
    "# url = 'https://www.ncei.noaa.gov/cdo-web/api/v2/datasets'\n",
    "url = \"https://www.ncei.noaa.gov/cdo-web/api/v2/data?datasetid=GHCND\"\n",
    "params = {\n",
    "    \"id\": \"GHCND\",\n",
    "    \"name\": \"Daily Summaries\",\n",
    "    \"datacoverage\": 1,\n",
    "    \"startdate\": \"2018-01-01\",\n",
    "    \"enddate\": \"2019-01-01\"\n",
    "}\n",
    "headers = {\n",
    "    'token': api_key\n",
    "}\n",
    "response = requests.get(url, headers=headers, params=params)\n",
    "data = response.json()\n",
    "df = pd.json_normalize(data, 'results')\n",
    "print(df.head())"
   ]
  },
  {
   "cell_type": "code",
   "execution_count": 28,
   "id": "da2e0113",
   "metadata": {},
   "outputs": [],
   "source": [
    "df_dtypes = pd.json_normalize(dtypes, 'results')"
   ]
  },
  {
   "cell_type": "code",
   "execution_count": 25,
   "id": "f644fe75",
   "metadata": {},
   "outputs": [],
   "source": [
    "df_dtypes.to_csv(\"../data/dtypes.csv\" )"
   ]
  },
  {
   "cell_type": "markdown",
   "id": "38c84e58",
   "metadata": {
    "tags": []
   },
   "source": [
    "## Aviation Weather Center"
   ]
  },
  {
   "cell_type": "code",
   "execution_count": 1,
   "id": "b03797be",
   "metadata": {},
   "outputs": [
    {
     "ename": "NameError",
     "evalue": "name 'requests' is not defined",
     "output_type": "error",
     "traceback": [
      "\u001b[0;31m---------------------------------------------------------------------------\u001b[0m",
      "\u001b[0;31mNameError\u001b[0m                                 Traceback (most recent call last)",
      "\u001b[0;32m/var/folders/83/l90nsr955zzdy6yv_p2ch0680000gr/T/ipykernel_25041/671774575.py\u001b[0m in \u001b[0;36m<module>\u001b[0;34m\u001b[0m\n\u001b[1;32m      2\u001b[0m \u001b[0mstations\u001b[0m \u001b[0;34m=\u001b[0m \u001b[0;34m[\u001b[0m\u001b[0;34m\"PANC\"\u001b[0m\u001b[0;34m]\u001b[0m  \u001b[0;31m# and other stations too\u001b[0m\u001b[0;34m\u001b[0m\u001b[0;34m\u001b[0m\u001b[0m\n\u001b[1;32m      3\u001b[0m \u001b[0mparams\u001b[0m \u001b[0;34m=\u001b[0m \u001b[0;34m{\u001b[0m\u001b[0;34m\"ids\"\u001b[0m\u001b[0;34m:\u001b[0m \u001b[0mstations\u001b[0m\u001b[0;34m,\u001b[0m \u001b[0;34m\"format\"\u001b[0m\u001b[0;34m:\u001b[0m \u001b[0;34m\"json\"\u001b[0m\u001b[0;34m,\u001b[0m \u001b[0;34m\"hours\"\u001b[0m\u001b[0;34m:\u001b[0m \u001b[0;36m48\u001b[0m\u001b[0;34m}\u001b[0m\u001b[0;34m\u001b[0m\u001b[0;34m\u001b[0m\u001b[0m\n\u001b[0;32m----> 4\u001b[0;31m \u001b[0mresponse\u001b[0m \u001b[0;34m=\u001b[0m \u001b[0mrequests\u001b[0m\u001b[0;34m.\u001b[0m\u001b[0mget\u001b[0m\u001b[0;34m(\u001b[0m\u001b[0mendpoint\u001b[0m\u001b[0;34m,\u001b[0m \u001b[0mparams\u001b[0m\u001b[0;34m=\u001b[0m\u001b[0mparams\u001b[0m\u001b[0;34m)\u001b[0m\u001b[0;34m\u001b[0m\u001b[0;34m\u001b[0m\u001b[0m\n\u001b[0m\u001b[1;32m      5\u001b[0m \u001b[0mdf\u001b[0m \u001b[0;34m=\u001b[0m \u001b[0mpd\u001b[0m\u001b[0;34m.\u001b[0m\u001b[0mDataFrame\u001b[0m\u001b[0;34m.\u001b[0m\u001b[0mfrom_records\u001b[0m\u001b[0;34m(\u001b[0m\u001b[0mresponse\u001b[0m\u001b[0;34m.\u001b[0m\u001b[0mjson\u001b[0m\u001b[0;34m(\u001b[0m\u001b[0;34m)\u001b[0m\u001b[0;34m)\u001b[0m\u001b[0;34m\u001b[0m\u001b[0;34m\u001b[0m\u001b[0m\n\u001b[1;32m      6\u001b[0m \u001b[0mdf\u001b[0m\u001b[0;34m[\u001b[0m\u001b[0;34m\"reportTime\"\u001b[0m\u001b[0;34m]\u001b[0m \u001b[0;34m=\u001b[0m \u001b[0mpd\u001b[0m\u001b[0;34m.\u001b[0m\u001b[0mto_datetime\u001b[0m\u001b[0;34m(\u001b[0m\u001b[0mdf\u001b[0m\u001b[0;34m[\u001b[0m\u001b[0;34m\"reportTime\"\u001b[0m\u001b[0;34m]\u001b[0m\u001b[0;34m)\u001b[0m\u001b[0;34m\u001b[0m\u001b[0;34m\u001b[0m\u001b[0m\n",
      "\u001b[0;31mNameError\u001b[0m: name 'requests' is not defined"
     ]
    }
   ],
   "source": [
    "endpoint = \"https://aviationweather.gov/api/data/metar\"\n",
    "stations = [\"PANC\"]  # and other stations too\n",
    "params = {\"ids\": stations, \"format\": \"json\", \"hours\": 48}\n",
    "response = requests.get(endpoint, params=params)\n",
    "df = pd.DataFrame.from_records(response.json())\n",
    "df[\"reportTime\"] = pd.to_datetime(df[\"reportTime\"])"
   ]
  },
  {
   "cell_type": "code",
   "execution_count": 8,
   "id": "e881d5e5",
   "metadata": {},
   "outputs": [
    {
     "data": {
      "text/plain": [
       "Index(['metar_id', 'icaoId', 'receiptTime', 'obsTime', 'reportTime', 'temp',\n",
       "       'dewp', 'wdir', 'wspd', 'wgst', 'visib', 'altim', 'slp', 'qcField',\n",
       "       'wxString', 'presTend', 'maxT', 'minT', 'maxT24', 'minT24', 'precip',\n",
       "       'pcp3hr', 'pcp6hr', 'pcp24hr', 'snow', 'vertVis', 'metarType', 'rawOb',\n",
       "       'mostRecent', 'lat', 'lon', 'elev', 'prior', 'name', 'clouds'],\n",
       "      dtype='object')"
      ]
     },
     "execution_count": 8,
     "metadata": {},
     "output_type": "execute_result"
    }
   ],
   "source": [
    "df.columns"
   ]
  },
  {
   "cell_type": "code",
   "execution_count": null,
   "id": "1ed9490b",
   "metadata": {},
   "outputs": [],
   "source": [
    "df = df.loc[\n",
    "    (df[\"reportTime\"].dt.date == datetime.date(2023, 11, 19))  # or whatever the date is\n",
    "    & (df[\"metarType\"] == \"METAR\")\n",
    "][[\"temp\", \"precip\", \"snow\"]].agg([\"mean\", \"max\", \"min\", \"count\"])\n",
    "\n",
    "y_temp = df[\"temp\"][:3]\n",
    "y_snow = df[\"snow\"][\"max\"] > 0\n",
    "y_rain = df[\"precip\"][\"max\"] > 0"
   ]
  },
  {
   "cell_type": "markdown",
   "id": "83ea6dd0",
   "metadata": {},
   "source": [
    "## Using Meteostat api "
   ]
  },
  {
   "cell_type": "code",
   "execution_count": 33,
   "id": "55f7a719",
   "metadata": {},
   "outputs": [],
   "source": [
    "from datetime import datetime\n",
    "import matplotlib.pyplot as plt\n",
    "from meteostat import Point, Daily, Hourly\n",
    "from meteostat import Stations"
   ]
  },
  {
   "cell_type": "code",
   "execution_count": 34,
   "id": "4b332e51-43e6-4df8-8b20-4a8753f694d1",
   "metadata": {},
   "outputs": [],
   "source": [
    "stations = Stations()"
   ]
  },
  {
   "cell_type": "code",
   "execution_count": 35,
   "id": "b6137ba8-7177-4f06-a19a-9b7921120019",
   "metadata": {},
   "outputs": [],
   "source": [
    "start = datetime(2022, 11, 12)\n",
    "end = datetime(2023, 11, 12)"
   ]
  },
  {
   "cell_type": "code",
   "execution_count": 36,
   "id": "d8b5696a-6752-4322-9ebc-dd64428fdd49",
   "metadata": {},
   "outputs": [],
   "source": [
    "stations = stations.nearby(42.2229276,-83.7457088)"
   ]
  },
  {
   "cell_type": "code",
   "execution_count": 37,
   "id": "336f6e2f-376c-4a81-acbe-bac08fe11693",
   "metadata": {},
   "outputs": [],
   "source": [
    "lat_lons = [(42.2229276,-83.7457088)]"
   ]
  },
  {
   "cell_type": "code",
   "execution_count": 38,
   "id": "aa6a1500-4a54-47af-a310-ede51d2fc90e",
   "metadata": {},
   "outputs": [],
   "source": [
    " lat_lons = {\n",
    "    \"KARB\" : (42.2231,-83.7453), # Ann Arbor Airport\n",
    "    \"PANC\" : (61.1743,-149.9963), # Ted Stevens Anchorage International Airport\n",
    "    \"KBOI\" : (43.5644,-116.2228), # Boise Air Terminal\n",
    "    \"KORD\" : (41.9742,-87.9073), # Chicago O'Hare International Airport\n",
    "    \"KDEN\" : (39.8561,-104.6737), # Denver International Airport\n",
    "    \"KDTW\" : (42.2125,-83.3533), # Detroit Metropolitan Airport\n",
    "    \"PHNL\" : (21.3187,-157.9225), # Honolulu International Airport\n",
    "    \"KIAH\" : (29.9844,-95.3414), # George Bush Intercontinental Airport\n",
    "    \"KMIA\" : (25.7933,-80.2906), # Miami International Airport\n",
    "    \"KMIC\" : (45.0628,-93.3533), # Minneapolis Crystal Airport\n",
    "    \"KOKC\" : (35.3931,-97.6008), # Will Rogers World Airport\n",
    "    \"KBNA\" : (36.1244,-86.6782), # Nashville International Airport\n",
    "    \"KJFK\" : (40.6397,-73.7789), # John F. Kennedy International Airport\n",
    "    \"KPHX\" : (33.4342,-112.0117), # Phoenix Sky Harbor International Airport\n",
    "    \"KPWM\" : (43.6461,-70.3092), # Portland International Jetport\n",
    "    \"KPDX\" : (45.5886,-122.5975), # Portland International Airport\n",
    "    \"KSLC\" : (40.7884,-111.9778), # Salt Lake City International Airport\n",
    "    \"KSAN\" : (32.7336,-117.1897), # San Diego International Airport\n",
    "    \"KSFO\" : (37.6189,-122.3750), # San Francisco International Airport\n",
    "    \"KSEA\" : (47.4489,-122.3094), # Seattle Tacoma International Airport\n",
    "    \"KDCA\" : (38.8522,-77.0378), # Ronald Reagan Washington National Airport\n",
    "}"
   ]
  },
  {
   "cell_type": "code",
   "execution_count": 15,
   "id": "967cfef8-2652-46f2-a49f-8404a4838197",
   "metadata": {},
   "outputs": [
    {
     "data": {
      "text/html": [
       "<div>\n",
       "<style scoped>\n",
       "    .dataframe tbody tr th:only-of-type {\n",
       "        vertical-align: middle;\n",
       "    }\n",
       "\n",
       "    .dataframe tbody tr th {\n",
       "        vertical-align: top;\n",
       "    }\n",
       "\n",
       "    .dataframe thead th {\n",
       "        text-align: right;\n",
       "    }\n",
       "</style>\n",
       "<table border=\"1\" class=\"dataframe\">\n",
       "  <thead>\n",
       "    <tr style=\"text-align: right;\">\n",
       "      <th></th>\n",
       "      <th>name</th>\n",
       "      <th>country</th>\n",
       "      <th>region</th>\n",
       "      <th>wmo</th>\n",
       "      <th>icao</th>\n",
       "      <th>latitude</th>\n",
       "      <th>longitude</th>\n",
       "      <th>elevation</th>\n",
       "      <th>timezone</th>\n",
       "      <th>hourly_start</th>\n",
       "      <th>hourly_end</th>\n",
       "      <th>daily_start</th>\n",
       "      <th>daily_end</th>\n",
       "      <th>monthly_start</th>\n",
       "      <th>monthly_end</th>\n",
       "    </tr>\n",
       "    <tr>\n",
       "      <th>id</th>\n",
       "      <th></th>\n",
       "      <th></th>\n",
       "      <th></th>\n",
       "      <th></th>\n",
       "      <th></th>\n",
       "      <th></th>\n",
       "      <th></th>\n",
       "      <th></th>\n",
       "      <th></th>\n",
       "      <th></th>\n",
       "      <th></th>\n",
       "      <th></th>\n",
       "      <th></th>\n",
       "      <th></th>\n",
       "      <th></th>\n",
       "    </tr>\n",
       "  </thead>\n",
       "  <tbody>\n",
       "    <tr>\n",
       "      <th>00FAY</th>\n",
       "      <td>Holden Agdm</td>\n",
       "      <td>CA</td>\n",
       "      <td>AB</td>\n",
       "      <td>71227</td>\n",
       "      <td>&lt;NA&gt;</td>\n",
       "      <td>53.19</td>\n",
       "      <td>-112.25</td>\n",
       "      <td>688.0</td>\n",
       "      <td>America/Edmonton</td>\n",
       "      <td>2020-01-01</td>\n",
       "      <td>2022-12-14</td>\n",
       "      <td>2002-11-01</td>\n",
       "      <td>2022-12-10</td>\n",
       "      <td>2003-01-01</td>\n",
       "      <td>2022-01-01</td>\n",
       "    </tr>\n",
       "  </tbody>\n",
       "</table>\n",
       "</div>"
      ],
      "text/plain": [
       "              name country region    wmo  icao  latitude  longitude  \\\n",
       "id                                                                    \n",
       "00FAY  Holden Agdm      CA     AB  71227  <NA>     53.19    -112.25   \n",
       "\n",
       "       elevation          timezone hourly_start hourly_end daily_start  \\\n",
       "id                                                                       \n",
       "00FAY      688.0  America/Edmonton   2020-01-01 2022-12-14  2002-11-01   \n",
       "\n",
       "       daily_end monthly_start monthly_end  \n",
       "id                                          \n",
       "00FAY 2022-12-10    2003-01-01  2022-01-01  "
      ]
     },
     "execution_count": 15,
     "metadata": {},
     "output_type": "execute_result"
    }
   ],
   "source": [
    "stations.fetch(1)"
   ]
  },
  {
   "cell_type": "code",
   "execution_count": 16,
   "id": "4a007cbb-6973-4cf7-820f-38d36ae2c6d3",
   "metadata": {},
   "outputs": [
    {
     "data": {
      "text/plain": [
       "'00FAY'"
      ]
     },
     "execution_count": 16,
     "metadata": {},
     "output_type": "execute_result"
    }
   ],
   "source": [
    "stations.fetch(1).index[0]"
   ]
  },
  {
   "cell_type": "code",
   "execution_count": 17,
   "id": "bb6f717a-939f-4cf7-bdf9-ee807e0169a1",
   "metadata": {},
   "outputs": [],
   "source": [
    "hourly  = Hourly(stations.fetch(1).index[0], start, end)"
   ]
  },
  {
   "cell_type": "code",
   "execution_count": 18,
   "id": "d500bd59-2aaa-47cc-9a63-1973853b0ebc",
   "metadata": {},
   "outputs": [
    {
     "data": {
      "text/plain": [
       "temp    0.0\n",
       "dwpt    0.0\n",
       "rhum    0.0\n",
       "prcp    0.0\n",
       "snow    1.0\n",
       "wdir    0.0\n",
       "wspd    0.0\n",
       "wpgt    1.0\n",
       "pres    0.0\n",
       "tsun    1.0\n",
       "coco    0.0\n",
       "dtype: float64"
      ]
     },
     "execution_count": 18,
     "metadata": {},
     "output_type": "execute_result"
    }
   ],
   "source": [
    "(hourly.fetch().isna()*1).mean()"
   ]
  },
  {
   "cell_type": "code",
   "execution_count": 19,
   "id": "aec35181-9574-4ef4-9c6f-f7f305740d51",
   "metadata": {},
   "outputs": [
    {
     "data": {
      "text/plain": [
       "dict_items([('KARB', (42.2231, -83.7453)), ('PANC', (61.1743, -149.9963)), ('KBOI', (43.5644, -116.2228)), ('KORD', (41.9742, -87.9073)), ('KDEN', (39.8561, -104.6737)), ('KDTW', (42.2125, -83.3533)), ('PHNL', (21.3187, -157.9225)), ('KIAH', (29.9844, -95.3414)), ('KMIA', (25.7933, -80.2906)), ('KMIC', (45.0628, -93.3533)), ('KOKC', (35.3931, -97.6008)), ('KBNA', (36.1244, -86.6782)), ('KJFK', (40.6397, -73.7789)), ('KPHX', (33.4342, -112.0117)), ('KPWM', (43.6461, -70.3092)), ('KPDX', (45.5886, -122.5975)), ('KSLC', (40.7884, -111.9778)), ('KSAN', (32.7336, -117.1897)), ('KSFO', (37.6189, -122.375)), ('KSEA', (47.4489, -122.3094)), ('KDCA', (38.8522, -77.0378))])"
      ]
     },
     "execution_count": 19,
     "metadata": {},
     "output_type": "execute_result"
    }
   ],
   "source": [
    "lat_lons.items()"
   ]
  },
  {
   "cell_type": "code",
   "execution_count": 39,
   "id": "c7f4874c-abba-4446-a3d2-873b23364a3a",
   "metadata": {},
   "outputs": [],
   "source": [
    "station_ids = []\n",
    "for icao, coords in lat_lons.items():\n",
    "    lat, lon = coords\n",
    "    station = stations.nearby(*coords).fetch(1)\n",
    "    station_ids.append(station.index[0])"
   ]
  },
  {
   "cell_type": "code",
   "execution_count": 41,
   "id": "27da3091-ee4c-4211-b6c7-4d8e71525fb8",
   "metadata": {},
   "outputs": [],
   "source": [
    "hourly_df = Hourly(loc = station_ids, start=start, end=end).fetch()"
   ]
  },
  {
   "cell_type": "code",
   "execution_count": 42,
   "id": "e2afa62a-a7ed-4c9b-ad7b-344b81dbed56",
   "metadata": {},
   "outputs": [
    {
     "data": {
      "text/html": [
       "<div>\n",
       "<style scoped>\n",
       "    .dataframe tbody tr th:only-of-type {\n",
       "        vertical-align: middle;\n",
       "    }\n",
       "\n",
       "    .dataframe tbody tr th {\n",
       "        vertical-align: top;\n",
       "    }\n",
       "\n",
       "    .dataframe thead th {\n",
       "        text-align: right;\n",
       "    }\n",
       "</style>\n",
       "<table border=\"1\" class=\"dataframe\">\n",
       "  <thead>\n",
       "    <tr style=\"text-align: right;\">\n",
       "      <th></th>\n",
       "      <th></th>\n",
       "      <th>temp</th>\n",
       "      <th>dwpt</th>\n",
       "      <th>rhum</th>\n",
       "      <th>prcp</th>\n",
       "      <th>snow</th>\n",
       "      <th>wdir</th>\n",
       "      <th>wspd</th>\n",
       "      <th>wpgt</th>\n",
       "      <th>pres</th>\n",
       "      <th>tsun</th>\n",
       "      <th>coco</th>\n",
       "    </tr>\n",
       "    <tr>\n",
       "      <th>station</th>\n",
       "      <th>time</th>\n",
       "      <th></th>\n",
       "      <th></th>\n",
       "      <th></th>\n",
       "      <th></th>\n",
       "      <th></th>\n",
       "      <th></th>\n",
       "      <th></th>\n",
       "      <th></th>\n",
       "      <th></th>\n",
       "      <th></th>\n",
       "      <th></th>\n",
       "    </tr>\n",
       "  </thead>\n",
       "  <tbody>\n",
       "    <tr>\n",
       "      <th rowspan=\"5\" valign=\"top\">KARB0</th>\n",
       "      <th>2022-11-12 00:00:00</th>\n",
       "      <td>9.4</td>\n",
       "      <td>4.0</td>\n",
       "      <td>69.0</td>\n",
       "      <td>0.0</td>\n",
       "      <td>NaN</td>\n",
       "      <td>300.0</td>\n",
       "      <td>20.5</td>\n",
       "      <td>NaN</td>\n",
       "      <td>1005.8</td>\n",
       "      <td>NaN</td>\n",
       "      <td>3.0</td>\n",
       "    </tr>\n",
       "    <tr>\n",
       "      <th>2022-11-12 01:00:00</th>\n",
       "      <td>9.4</td>\n",
       "      <td>4.0</td>\n",
       "      <td>69.0</td>\n",
       "      <td>0.0</td>\n",
       "      <td>NaN</td>\n",
       "      <td>300.0</td>\n",
       "      <td>20.5</td>\n",
       "      <td>NaN</td>\n",
       "      <td>1005.8</td>\n",
       "      <td>NaN</td>\n",
       "      <td>3.0</td>\n",
       "    </tr>\n",
       "    <tr>\n",
       "      <th>2022-11-12 02:00:00</th>\n",
       "      <td>6.1</td>\n",
       "      <td>0.0</td>\n",
       "      <td>65.0</td>\n",
       "      <td>0.0</td>\n",
       "      <td>NaN</td>\n",
       "      <td>300.0</td>\n",
       "      <td>18.4</td>\n",
       "      <td>NaN</td>\n",
       "      <td>1007.2</td>\n",
       "      <td>NaN</td>\n",
       "      <td>3.0</td>\n",
       "    </tr>\n",
       "    <tr>\n",
       "      <th>2022-11-12 03:00:00</th>\n",
       "      <td>6.1</td>\n",
       "      <td>0.0</td>\n",
       "      <td>65.0</td>\n",
       "      <td>0.0</td>\n",
       "      <td>NaN</td>\n",
       "      <td>300.0</td>\n",
       "      <td>24.1</td>\n",
       "      <td>NaN</td>\n",
       "      <td>1007.2</td>\n",
       "      <td>NaN</td>\n",
       "      <td>3.0</td>\n",
       "    </tr>\n",
       "    <tr>\n",
       "      <th>2022-11-12 04:00:00</th>\n",
       "      <td>2.8</td>\n",
       "      <td>-2.1</td>\n",
       "      <td>70.0</td>\n",
       "      <td>0.0</td>\n",
       "      <td>NaN</td>\n",
       "      <td>290.0</td>\n",
       "      <td>22.3</td>\n",
       "      <td>NaN</td>\n",
       "      <td>1008.5</td>\n",
       "      <td>NaN</td>\n",
       "      <td>3.0</td>\n",
       "    </tr>\n",
       "  </tbody>\n",
       "</table>\n",
       "</div>"
      ],
      "text/plain": [
       "                             temp  dwpt  rhum  prcp  snow   wdir  wspd  wpgt  \\\n",
       "station time                                                                   \n",
       "KARB0   2022-11-12 00:00:00   9.4   4.0  69.0   0.0   NaN  300.0  20.5   NaN   \n",
       "        2022-11-12 01:00:00   9.4   4.0  69.0   0.0   NaN  300.0  20.5   NaN   \n",
       "        2022-11-12 02:00:00   6.1   0.0  65.0   0.0   NaN  300.0  18.4   NaN   \n",
       "        2022-11-12 03:00:00   6.1   0.0  65.0   0.0   NaN  300.0  24.1   NaN   \n",
       "        2022-11-12 04:00:00   2.8  -2.1  70.0   0.0   NaN  290.0  22.3   NaN   \n",
       "\n",
       "                               pres  tsun  coco  \n",
       "station time                                     \n",
       "KARB0   2022-11-12 00:00:00  1005.8   NaN   3.0  \n",
       "        2022-11-12 01:00:00  1005.8   NaN   3.0  \n",
       "        2022-11-12 02:00:00  1007.2   NaN   3.0  \n",
       "        2022-11-12 03:00:00  1007.2   NaN   3.0  \n",
       "        2022-11-12 04:00:00  1008.5   NaN   3.0  "
      ]
     },
     "execution_count": 42,
     "metadata": {},
     "output_type": "execute_result"
    }
   ],
   "source": [
    "hourly_df.head()"
   ]
  },
  {
   "cell_type": "code",
   "execution_count": 43,
   "id": "023f0228-742c-46d4-84df-77813b1f4b39",
   "metadata": {},
   "outputs": [],
   "source": [
    "hourly_df.to_csv(\"../data/hourly_data.csv\")"
   ]
  },
  {
   "cell_type": "code",
   "execution_count": 87,
   "id": "50f9d219-e815-4aa7-a790-cd33bac6e94f",
   "metadata": {},
   "outputs": [],
   "source": [
    "data = hourly_df.copy()"
   ]
  },
  {
   "cell_type": "code",
   "execution_count": 88,
   "id": "410da5b5-5b70-4d0f-9da8-7eb55c2b0339",
   "metadata": {},
   "outputs": [],
   "source": [
    "data = data.reset_index()"
   ]
  },
  {
   "cell_type": "code",
   "execution_count": 90,
   "id": "464dcb83-a859-428e-917c-ad95c5518eb4",
   "metadata": {},
   "outputs": [],
   "source": [
    "data[\"date\"] = data.time.dt.date"
   ]
  },
  {
   "cell_type": "code",
   "execution_count": 93,
   "id": "a32cd1cf-cb37-4655-a96f-ff7057f80d5b",
   "metadata": {},
   "outputs": [],
   "source": [
    "daily_df = data.groupby(['station','date']).agg(temp_max=('temp', 'max'),\n",
    "                                                  temp_mean=('temp', 'mean'),\n",
    "                                                  temp_min=('temp', 'min'),\n",
    "                                                  rainfall=('prcp', lambda x: (x > 0).any()),\n",
    "                                                  snow=('coco', lambda x: (x > 0).any()))"
   ]
  },
  {
   "cell_type": "code",
   "execution_count": 94,
   "id": "d8f2b21e-7561-4731-bd0f-9d6b8db0bc6b",
   "metadata": {},
   "outputs": [
    {
     "data": {
      "text/html": [
       "<div>\n",
       "<style scoped>\n",
       "    .dataframe tbody tr th:only-of-type {\n",
       "        vertical-align: middle;\n",
       "    }\n",
       "\n",
       "    .dataframe tbody tr th {\n",
       "        vertical-align: top;\n",
       "    }\n",
       "\n",
       "    .dataframe thead th {\n",
       "        text-align: right;\n",
       "    }\n",
       "</style>\n",
       "<table border=\"1\" class=\"dataframe\">\n",
       "  <thead>\n",
       "    <tr style=\"text-align: right;\">\n",
       "      <th></th>\n",
       "      <th></th>\n",
       "      <th>temp_max</th>\n",
       "      <th>temp_mean</th>\n",
       "      <th>temp_min</th>\n",
       "      <th>rainfall</th>\n",
       "      <th>snow</th>\n",
       "    </tr>\n",
       "    <tr>\n",
       "      <th>station</th>\n",
       "      <th>date</th>\n",
       "      <th></th>\n",
       "      <th></th>\n",
       "      <th></th>\n",
       "      <th></th>\n",
       "      <th></th>\n",
       "    </tr>\n",
       "  </thead>\n",
       "  <tbody>\n",
       "    <tr>\n",
       "      <th rowspan=\"5\" valign=\"top\">72202</th>\n",
       "      <th>2022-11-12</th>\n",
       "      <td>28.9</td>\n",
       "      <td>25.841667</td>\n",
       "      <td>23.3</td>\n",
       "      <td>True</td>\n",
       "      <td>True</td>\n",
       "    </tr>\n",
       "    <tr>\n",
       "      <th>2022-11-13</th>\n",
       "      <td>30.6</td>\n",
       "      <td>25.000000</td>\n",
       "      <td>21.1</td>\n",
       "      <td>True</td>\n",
       "      <td>True</td>\n",
       "    </tr>\n",
       "    <tr>\n",
       "      <th>2022-11-14</th>\n",
       "      <td>30.0</td>\n",
       "      <td>25.750000</td>\n",
       "      <td>22.8</td>\n",
       "      <td>False</td>\n",
       "      <td>True</td>\n",
       "    </tr>\n",
       "    <tr>\n",
       "      <th>2022-11-15</th>\n",
       "      <td>30.0</td>\n",
       "      <td>26.287500</td>\n",
       "      <td>23.3</td>\n",
       "      <td>False</td>\n",
       "      <td>True</td>\n",
       "    </tr>\n",
       "    <tr>\n",
       "      <th>2022-11-16</th>\n",
       "      <td>30.6</td>\n",
       "      <td>25.933333</td>\n",
       "      <td>22.2</td>\n",
       "      <td>False</td>\n",
       "      <td>True</td>\n",
       "    </tr>\n",
       "    <tr>\n",
       "      <th>...</th>\n",
       "      <th>...</th>\n",
       "      <td>...</td>\n",
       "      <td>...</td>\n",
       "      <td>...</td>\n",
       "      <td>...</td>\n",
       "      <td>...</td>\n",
       "    </tr>\n",
       "    <tr>\n",
       "      <th rowspan=\"5\" valign=\"top\">PALH0</th>\n",
       "      <th>2023-11-08</th>\n",
       "      <td>1.0</td>\n",
       "      <td>-1.741667</td>\n",
       "      <td>-3.3</td>\n",
       "      <td>True</td>\n",
       "      <td>True</td>\n",
       "    </tr>\n",
       "    <tr>\n",
       "      <th>2023-11-09</th>\n",
       "      <td>0.6</td>\n",
       "      <td>-0.129167</td>\n",
       "      <td>-1.1</td>\n",
       "      <td>True</td>\n",
       "      <td>True</td>\n",
       "    </tr>\n",
       "    <tr>\n",
       "      <th>2023-11-10</th>\n",
       "      <td>-0.6</td>\n",
       "      <td>-1.625000</td>\n",
       "      <td>-2.2</td>\n",
       "      <td>True</td>\n",
       "      <td>True</td>\n",
       "    </tr>\n",
       "    <tr>\n",
       "      <th>2023-11-11</th>\n",
       "      <td>-0.5</td>\n",
       "      <td>-3.529167</td>\n",
       "      <td>-7.2</td>\n",
       "      <td>True</td>\n",
       "      <td>True</td>\n",
       "    </tr>\n",
       "    <tr>\n",
       "      <th>2023-11-12</th>\n",
       "      <td>-3.9</td>\n",
       "      <td>-3.900000</td>\n",
       "      <td>-3.9</td>\n",
       "      <td>False</td>\n",
       "      <td>True</td>\n",
       "    </tr>\n",
       "  </tbody>\n",
       "</table>\n",
       "<p>7320 rows × 5 columns</p>\n",
       "</div>"
      ],
      "text/plain": [
       "                    temp_max  temp_mean  temp_min  rainfall  snow\n",
       "station date                                                     \n",
       "72202   2022-11-12      28.9  25.841667      23.3      True  True\n",
       "        2022-11-13      30.6  25.000000      21.1      True  True\n",
       "        2022-11-14      30.0  25.750000      22.8     False  True\n",
       "        2022-11-15      30.0  26.287500      23.3     False  True\n",
       "        2022-11-16      30.6  25.933333      22.2     False  True\n",
       "...                      ...        ...       ...       ...   ...\n",
       "PALH0   2023-11-08       1.0  -1.741667      -3.3      True  True\n",
       "        2023-11-09       0.6  -0.129167      -1.1      True  True\n",
       "        2023-11-10      -0.6  -1.625000      -2.2      True  True\n",
       "        2023-11-11      -0.5  -3.529167      -7.2      True  True\n",
       "        2023-11-12      -3.9  -3.900000      -3.9     False  True\n",
       "\n",
       "[7320 rows x 5 columns]"
      ]
     },
     "execution_count": 94,
     "metadata": {},
     "output_type": "execute_result"
    }
   ],
   "source": [
    "daily_df"
   ]
  },
  {
   "cell_type": "code",
   "execution_count": 95,
   "id": "28696070-7a3d-4ac9-b89e-96e860bcc65a",
   "metadata": {},
   "outputs": [],
   "source": [
    "daily_df.to_csv(\"../data/daily_data.csv\")"
   ]
  }
 ],
 "metadata": {
  "kernelspec": {
   "display_name": "Python 3 (ipykernel)",
   "language": "python",
   "name": "python3"
  },
  "language_info": {
   "codemirror_mode": {
    "name": "ipython",
    "version": 3
   },
   "file_extension": ".py",
   "mimetype": "text/x-python",
   "name": "python",
   "nbconvert_exporter": "python",
   "pygments_lexer": "ipython3",
   "version": "3.9.12"
  }
 },
 "nbformat": 4,
 "nbformat_minor": 5
}
