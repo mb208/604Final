{
 "cells": [
  {
   "cell_type": "code",
   "execution_count": 48,
   "id": "6a4827b4",
   "metadata": {},
   "outputs": [],
   "source": [
    "# from noaa_sdk import NOAA\n",
    "import requests\n",
    "import pandas as pd \n",
    "import numpy as np\n",
    "import datetime"
   ]
  },
  {
   "cell_type": "code",
   "execution_count": 3,
   "id": "53acc574",
   "metadata": {},
   "outputs": [],
   "source": [
    "def get_noaa_data(api_key, dataset_id, station_id, start_date, end_date):\n",
    "    base_url = \"https://www.ncdc.noaa.gov/cdo-web/api/v2/data\"\n",
    "    params = {\n",
    "        \"datasetid\": dataset_id,\n",
    "        \"stationid\": station_id,\n",
    "        \"startdate\": start_date,\n",
    "        \"enddate\": end_date,\n",
    "        \"units\": \"metric\",\n",
    "        \"limit\": 1000\n",
    "    }\n",
    "    headers = {\n",
    "        \"token\": api_key\n",
    "    }\n",
    "    response = requests.get(base_url, headers=headers, params=params)\n",
    "    return response.json()"
   ]
  },
  {
   "cell_type": "code",
   "execution_count": 79,
   "id": "6f714b04",
   "metadata": {},
   "outputs": [],
   "source": [
    "station_id = \"GHCND:USC00200228\"\n",
    "fips_id = \"26161\"\n",
    "api_key = 'mVuthWQRHnBWzwoEgkijjFUMbRqsNvRh'\n",
    "dataset_id = \"GHCND\"\n",
    "startdate = \"2018-01-01\"\n",
    "enddate = \"2018-01-31\""
   ]
  },
  {
   "cell_type": "code",
   "execution_count": 80,
   "id": "93c1c596",
   "metadata": {},
   "outputs": [],
   "source": [
    "data = get_noaa_data(api_key=api_key, \n",
    "                     dataset_id=dataset_id,\n",
    "                     station_id=station_id,\n",
    "                     start_date=startdate,\n",
    "                     end_date=enddate\n",
    "                    )"
   ]
  },
  {
   "cell_type": "code",
   "execution_count": 81,
   "id": "8efee670",
   "metadata": {},
   "outputs": [],
   "source": [
    "df = pd.json_normalize(data, 'results')"
   ]
  },
  {
   "cell_type": "code",
   "execution_count": 82,
   "id": "a1631244",
   "metadata": {},
   "outputs": [
    {
     "data": {
      "text/plain": [
       "array(['PRCP', 'SNOW', 'SNWD', 'TMAX', 'TMIN', 'TOBS', 'WESD', 'WT01',\n",
       "       'WT06', 'WT04', 'WT11', 'WT03'], dtype=object)"
      ]
     },
     "execution_count": 82,
     "metadata": {},
     "output_type": "execute_result"
    }
   ],
   "source": [
    "df.datatype.unique()"
   ]
  },
  {
   "cell_type": "code",
   "execution_count": 32,
   "id": "9c7dfdbb",
   "metadata": {},
   "outputs": [
    {
     "name": "stdout",
     "output_type": "stream",
     "text": [
      "                  date datatype            station attributes  value\n",
      "0  2018-01-01T00:00:00     TAVG  GHCND:AE000041196      H,,S,    186\n",
      "1  2018-01-01T00:00:00     TMAX  GHCND:AE000041196       ,,S,    259\n",
      "2  2018-01-01T00:00:00     TMIN  GHCND:AE000041196       ,,S,    112\n",
      "3  2018-01-01T00:00:00     PRCP  GHCND:AEM00041194       ,,S,      0\n",
      "4  2018-01-01T00:00:00     TAVG  GHCND:AEM00041194      H,,S,    209\n"
     ]
    }
   ],
   "source": [
    "# url = 'https://www.ncei.noaa.gov/cdo-web/api/v2/datasets'\n",
    "url = \"https://www.ncei.noaa.gov/cdo-web/api/v2/data?datasetid=GHCND\"\n",
    "params = {\n",
    "    \"id\": \"GHCND\",\n",
    "    \"name\": \"Daily Summaries\",\n",
    "    \"datacoverage\": 1,\n",
    "    \"startdate\": \"2018-01-01\",\n",
    "    \"enddate\": \"2019-01-01\"\n",
    "}\n",
    "headers = {\n",
    "    'token': api_key\n",
    "}\n",
    "response = requests.get(url, headers=headers, params=params)\n",
    "data = response.json()\n",
    "df = pd.json_normalize(data, 'results')\n",
    "print(df.head())"
   ]
  },
  {
   "cell_type": "code",
   "execution_count": 34,
   "id": "d0dfe5ea",
   "metadata": {
    "collapsed": true,
    "jupyter": {
     "outputs_hidden": true
    }
   },
   "outputs": [
    {
     "data": {
      "text/plain": [
       "[{'date': '2018-01-01T00:00:00',\n",
       "  'datatype': 'TAVG',\n",
       "  'station': 'GHCND:AE000041196',\n",
       "  'attributes': 'H,,S,',\n",
       "  'value': 186},\n",
       " {'date': '2018-01-01T00:00:00',\n",
       "  'datatype': 'TMAX',\n",
       "  'station': 'GHCND:AE000041196',\n",
       "  'attributes': ',,S,',\n",
       "  'value': 259},\n",
       " {'date': '2018-01-01T00:00:00',\n",
       "  'datatype': 'TMIN',\n",
       "  'station': 'GHCND:AE000041196',\n",
       "  'attributes': ',,S,',\n",
       "  'value': 112},\n",
       " {'date': '2018-01-01T00:00:00',\n",
       "  'datatype': 'PRCP',\n",
       "  'station': 'GHCND:AEM00041194',\n",
       "  'attributes': ',,S,',\n",
       "  'value': 0},\n",
       " {'date': '2018-01-01T00:00:00',\n",
       "  'datatype': 'TAVG',\n",
       "  'station': 'GHCND:AEM00041194',\n",
       "  'attributes': 'H,,S,',\n",
       "  'value': 209},\n",
       " {'date': '2018-01-01T00:00:00',\n",
       "  'datatype': 'TMAX',\n",
       "  'station': 'GHCND:AEM00041194',\n",
       "  'attributes': ',,S,',\n",
       "  'value': 250},\n",
       " {'date': '2018-01-01T00:00:00',\n",
       "  'datatype': 'TAVG',\n",
       "  'station': 'GHCND:AEM00041217',\n",
       "  'attributes': 'H,,S,',\n",
       "  'value': 191},\n",
       " {'date': '2018-01-01T00:00:00',\n",
       "  'datatype': 'TMIN',\n",
       "  'station': 'GHCND:AEM00041217',\n",
       "  'attributes': ',,S,',\n",
       "  'value': 132},\n",
       " {'date': '2018-01-01T00:00:00',\n",
       "  'datatype': 'TAVG',\n",
       "  'station': 'GHCND:AEM00041218',\n",
       "  'attributes': 'H,,S,',\n",
       "  'value': 193},\n",
       " {'date': '2018-01-01T00:00:00',\n",
       "  'datatype': 'TAVG',\n",
       "  'station': 'GHCND:AFM00040938',\n",
       "  'attributes': 'H,,S,',\n",
       "  'value': 82},\n",
       " {'date': '2018-01-01T00:00:00',\n",
       "  'datatype': 'PRCP',\n",
       "  'station': 'GHCND:AFM00040948',\n",
       "  'attributes': ',,S,',\n",
       "  'value': 0},\n",
       " {'date': '2018-01-01T00:00:00',\n",
       "  'datatype': 'TAVG',\n",
       "  'station': 'GHCND:AFM00040948',\n",
       "  'attributes': 'H,,S,',\n",
       "  'value': 32},\n",
       " {'date': '2018-01-01T00:00:00',\n",
       "  'datatype': 'TAVG',\n",
       "  'station': 'GHCND:AFM00040990',\n",
       "  'attributes': 'H,,S,',\n",
       "  'value': 55},\n",
       " {'date': '2018-01-01T00:00:00',\n",
       "  'datatype': 'TAVG',\n",
       "  'station': 'GHCND:AG000060390',\n",
       "  'attributes': 'H,,S,',\n",
       "  'value': 145},\n",
       " {'date': '2018-01-01T00:00:00',\n",
       "  'datatype': 'TAVG',\n",
       "  'station': 'GHCND:AG000060590',\n",
       "  'attributes': 'H,,S,',\n",
       "  'value': 122},\n",
       " {'date': '2018-01-01T00:00:00',\n",
       "  'datatype': 'TMIN',\n",
       "  'station': 'GHCND:AG000060590',\n",
       "  'attributes': ',,S,',\n",
       "  'value': 40},\n",
       " {'date': '2018-01-01T00:00:00',\n",
       "  'datatype': 'TAVG',\n",
       "  'station': 'GHCND:AG000060611',\n",
       "  'attributes': 'H,,S,',\n",
       "  'value': 118},\n",
       " {'date': '2018-01-01T00:00:00',\n",
       "  'datatype': 'TMIN',\n",
       "  'station': 'GHCND:AG000060611',\n",
       "  'attributes': ',,S,',\n",
       "  'value': 36},\n",
       " {'date': '2018-01-01T00:00:00',\n",
       "  'datatype': 'PRCP',\n",
       "  'station': 'GHCND:AGE00147708',\n",
       "  'attributes': ',,S,',\n",
       "  'value': 0},\n",
       " {'date': '2018-01-01T00:00:00',\n",
       "  'datatype': 'TAVG',\n",
       "  'station': 'GHCND:AGE00147708',\n",
       "  'attributes': 'H,,S,',\n",
       "  'value': 144},\n",
       " {'date': '2018-01-01T00:00:00',\n",
       "  'datatype': 'TMIN',\n",
       "  'station': 'GHCND:AGE00147708',\n",
       "  'attributes': ',,S,',\n",
       "  'value': 114},\n",
       " {'date': '2018-01-01T00:00:00',\n",
       "  'datatype': 'PRCP',\n",
       "  'station': 'GHCND:AGE00147716',\n",
       "  'attributes': ',,S,',\n",
       "  'value': 0},\n",
       " {'date': '2018-01-01T00:00:00',\n",
       "  'datatype': 'TAVG',\n",
       "  'station': 'GHCND:AGE00147716',\n",
       "  'attributes': 'H,,S,',\n",
       "  'value': 158},\n",
       " {'date': '2018-01-01T00:00:00',\n",
       "  'datatype': 'TAVG',\n",
       "  'station': 'GHCND:AGE00147718',\n",
       "  'attributes': 'H,,S,',\n",
       "  'value': 163},\n",
       " {'date': '2018-01-01T00:00:00',\n",
       "  'datatype': 'TMIN',\n",
       "  'station': 'GHCND:AGE00147718',\n",
       "  'attributes': ',,S,',\n",
       "  'value': 104}]"
      ]
     },
     "execution_count": 34,
     "metadata": {},
     "output_type": "execute_result"
    }
   ],
   "source": [
    "data[\"results\"]"
   ]
  },
  {
   "cell_type": "code",
   "execution_count": 33,
   "id": "26794daa",
   "metadata": {},
   "outputs": [
    {
     "data": {
      "text/plain": [
       "array(['TAVG', 'TMAX', 'TMIN', 'PRCP'], dtype=object)"
      ]
     },
     "execution_count": 33,
     "metadata": {},
     "output_type": "execute_result"
    }
   ],
   "source": [
    "df.datatype.unique()"
   ]
  },
  {
   "cell_type": "code",
   "execution_count": 27,
   "id": "15885979",
   "metadata": {},
   "outputs": [],
   "source": [
    "dtypes = requests.get(\"https://www.ncei.noaa.gov/cdo-web/api/v2/datatypes\", \n",
    "                      headers=headers, \n",
    "                      params = {\"id\": \"GHCND\", \"name\": \"Daily Summaries\"}).json()"
   ]
  },
  {
   "cell_type": "code",
   "execution_count": 28,
   "id": "da2e0113",
   "metadata": {},
   "outputs": [],
   "source": [
    "df_dtypes = pd.json_normalize(dtypes, 'results')"
   ]
  },
  {
   "cell_type": "code",
   "execution_count": 25,
   "id": "f644fe75",
   "metadata": {},
   "outputs": [],
   "source": [
    "df_dtypes.to_csv(\"../data/dtypes.csv\" )"
   ]
  },
  {
   "cell_type": "markdown",
   "id": "38c84e58",
   "metadata": {},
   "source": [
    "## Aviation Weather Center"
   ]
  },
  {
   "cell_type": "code",
   "execution_count": 5,
   "id": "b03797be",
   "metadata": {},
   "outputs": [],
   "source": [
    "endpoint = \"https://aviationweather.gov/api/data/metar\"\n",
    "stations = [\"PANC\"]  # and other stations too\n",
    "params = {\"ids\": stations, \"format\": \"json\", \"hours\": 48}\n",
    "response = requests.get(endpoint, params=params)\n",
    "df = pd.DataFrame.from_records(response.json())\n",
    "df[\"reportTime\"] = pd.to_datetime(df[\"reportTime\"])"
   ]
  },
  {
   "cell_type": "code",
   "execution_count": 8,
   "id": "e881d5e5",
   "metadata": {},
   "outputs": [
    {
     "data": {
      "text/plain": [
       "Index(['metar_id', 'icaoId', 'receiptTime', 'obsTime', 'reportTime', 'temp',\n",
       "       'dewp', 'wdir', 'wspd', 'wgst', 'visib', 'altim', 'slp', 'qcField',\n",
       "       'wxString', 'presTend', 'maxT', 'minT', 'maxT24', 'minT24', 'precip',\n",
       "       'pcp3hr', 'pcp6hr', 'pcp24hr', 'snow', 'vertVis', 'metarType', 'rawOb',\n",
       "       'mostRecent', 'lat', 'lon', 'elev', 'prior', 'name', 'clouds'],\n",
       "      dtype='object')"
      ]
     },
     "execution_count": 8,
     "metadata": {},
     "output_type": "execute_result"
    }
   ],
   "source": [
    "df.columns"
   ]
  },
  {
   "cell_type": "code",
   "execution_count": null,
   "id": "1ed9490b",
   "metadata": {},
   "outputs": [],
   "source": [
    "df = df.loc[\n",
    "    (df[\"reportTime\"].dt.date == datetime.date(2023, 11, 19))  # or whatever the date is\n",
    "    & (df[\"metarType\"] == \"METAR\")\n",
    "][[\"temp\", \"precip\", \"snow\"]].agg([\"mean\", \"max\", \"min\", \"count\"])\n",
    "\n",
    "y_temp = df[\"temp\"][:3]\n",
    "y_snow = df[\"snow\"][\"max\"] > 0\n",
    "y_rain = df[\"precip\"][\"max\"] > 0"
   ]
  },
  {
   "cell_type": "markdown",
   "id": "83ea6dd0",
   "metadata": {},
   "source": [
    "## Using Meteostat api "
   ]
  },
  {
   "cell_type": "code",
   "execution_count": 27,
   "id": "55f7a719",
   "metadata": {},
   "outputs": [],
   "source": [
    "from datetime import datetime\n",
    "import matplotlib.pyplot as plt\n",
    "from meteostat import Point, Daily, Hourly"
   ]
  },
  {
   "cell_type": "code",
   "execution_count": 6,
   "id": "170960db",
   "metadata": {},
   "outputs": [],
   "source": [
    "start = datetime(2018, 1, 1)\n",
    "end = datetime(2018, 2, 15)"
   ]
  },
  {
   "cell_type": "code",
   "execution_count": 7,
   "id": "8d47342b-879c-426b-8ca0-a009eb047a1f",
   "metadata": {},
   "outputs": [],
   "source": [
    "from meteostat import Stations"
   ]
  },
  {
   "cell_type": "code",
   "execution_count": 8,
   "id": "4b332e51-43e6-4df8-8b20-4a8753f694d1",
   "metadata": {},
   "outputs": [],
   "source": [
    "stations = Stations()"
   ]
  },
  {
   "cell_type": "code",
   "execution_count": null,
   "id": "b6137ba8-7177-4f06-a19a-9b7921120019",
   "metadata": {},
   "outputs": [],
   "source": [
    "start= datetime.datetime(2022, 11, 12)\n",
    "end = datetime.datetime(2023, 11, 12)"
   ]
  },
  {
   "cell_type": "code",
   "execution_count": 20,
   "id": "d8b5696a-6752-4322-9ebc-dd64428fdd49",
   "metadata": {},
   "outputs": [],
   "source": [
    "stations = stations.nearby(42.2229276,-83.7457088)"
   ]
  },
  {
   "cell_type": "code",
   "execution_count": 54,
   "id": "336f6e2f-376c-4a81-acbe-bac08fe11693",
   "metadata": {},
   "outputs": [],
   "source": [
    "lat_lons = [(42.2229276,-83.7457088)]"
   ]
  },
  {
   "cell_type": "code",
   "execution_count": 62,
   "id": "aa6a1500-4a54-47af-a310-ede51d2fc90e",
   "metadata": {},
   "outputs": [],
   "source": [
    " lat_lons = {\n",
    "    \"KARB\" : (42.2231,-83.7453), # Ann Arbor Airport\n",
    "    \"PANC\" : (61.1743,-149.9963), # Ted Stevens Anchorage International Airport\n",
    "    \"KBOI\" : (43.5644,-116.2228), # Boise Air Terminal\n",
    "    \"KORD\" : (41.9742,-87.9073), # Chicago O'Hare International Airport\n",
    "    \"KDEN\" : (39.8561,-104.6737), # Denver International Airport\n",
    "    \"KDTW\" : (42.2125,-83.3533), # Detroit Metropolitan Airport\n",
    "    \"PHNL\" : (21.3187,-157.9225), # Honolulu International Airport\n",
    "    \"KIAH\" : (29.9844,-95.3414), # George Bush Intercontinental Airport\n",
    "    \"KMIA\" : (25.7933,-80.2906), # Miami International Airport\n",
    "    \"KMIC\" : (45.0628,-93.3533), # Minneapolis Crystal Airport\n",
    "    \"KOKC\" : (35.3931,-97.6008), # Will Rogers World Airport\n",
    "    \"KBNA\" : (36.1244,-86.6782), # Nashville International Airport\n",
    "    \"KJFK\" : (40.6397,-73.7789), # John F. Kennedy International Airport\n",
    "    \"KPHX\" : (33.4342,-112.0117), # Phoenix Sky Harbor International Airport\n",
    "    \"KPWM\" : (43.6461,-70.3092), # Portland International Jetport\n",
    "    \"KPDX\" : (45.5886,-122.5975), # Portland International Airport\n",
    "    \"KSLC\" : (40.7884,-111.9778), # Salt Lake City International Airport\n",
    "    \"KSAN\" : (32.7336,-117.1897), # San Diego International Airport\n",
    "    \"KSFO\" : (37.6189,-122.3750), # San Francisco International Airport\n",
    "    \"KSEA\" : (47.4489,-122.3094), # Seattle Tacoma International Airport\n",
    "    \"KDCA\" : (38.8522,-77.0378), # Ronald Reagan Washington National Airport\n",
    "}"
   ]
  },
  {
   "cell_type": "code",
   "execution_count": 26,
   "id": "967cfef8-2652-46f2-a49f-8404a4838197",
   "metadata": {},
   "outputs": [
    {
     "data": {
      "text/html": [
       "<div>\n",
       "<style scoped>\n",
       "    .dataframe tbody tr th:only-of-type {\n",
       "        vertical-align: middle;\n",
       "    }\n",
       "\n",
       "    .dataframe tbody tr th {\n",
       "        vertical-align: top;\n",
       "    }\n",
       "\n",
       "    .dataframe thead th {\n",
       "        text-align: right;\n",
       "    }\n",
       "</style>\n",
       "<table border=\"1\" class=\"dataframe\">\n",
       "  <thead>\n",
       "    <tr style=\"text-align: right;\">\n",
       "      <th></th>\n",
       "      <th>name</th>\n",
       "      <th>country</th>\n",
       "      <th>region</th>\n",
       "      <th>wmo</th>\n",
       "      <th>icao</th>\n",
       "      <th>latitude</th>\n",
       "      <th>longitude</th>\n",
       "      <th>elevation</th>\n",
       "      <th>timezone</th>\n",
       "      <th>hourly_start</th>\n",
       "      <th>hourly_end</th>\n",
       "      <th>daily_start</th>\n",
       "      <th>daily_end</th>\n",
       "      <th>monthly_start</th>\n",
       "      <th>monthly_end</th>\n",
       "      <th>distance</th>\n",
       "    </tr>\n",
       "    <tr>\n",
       "      <th>id</th>\n",
       "      <th></th>\n",
       "      <th></th>\n",
       "      <th></th>\n",
       "      <th></th>\n",
       "      <th></th>\n",
       "      <th></th>\n",
       "      <th></th>\n",
       "      <th></th>\n",
       "      <th></th>\n",
       "      <th></th>\n",
       "      <th></th>\n",
       "      <th></th>\n",
       "      <th></th>\n",
       "      <th></th>\n",
       "      <th></th>\n",
       "      <th></th>\n",
       "    </tr>\n",
       "  </thead>\n",
       "  <tbody>\n",
       "    <tr>\n",
       "      <th>KARB0</th>\n",
       "      <td>Ann Arbor / Pittsfield</td>\n",
       "      <td>US</td>\n",
       "      <td>MI</td>\n",
       "      <td>&lt;NA&gt;</td>\n",
       "      <td>KARB</td>\n",
       "      <td>42.223</td>\n",
       "      <td>-83.7456</td>\n",
       "      <td>256.0</td>\n",
       "      <td>America/Detroit</td>\n",
       "      <td>2006-01-01</td>\n",
       "      <td>2023-11-17</td>\n",
       "      <td>2006-01-01</td>\n",
       "      <td>2022-04-24</td>\n",
       "      <td>2006-01-01</td>\n",
       "      <td>2022-01-01</td>\n",
       "      <td>12.044687</td>\n",
       "    </tr>\n",
       "  </tbody>\n",
       "</table>\n",
       "</div>"
      ],
      "text/plain": [
       "                         name country region   wmo  icao  latitude  longitude  \\\n",
       "id                                                                              \n",
       "KARB0  Ann Arbor / Pittsfield      US     MI  <NA>  KARB    42.223   -83.7456   \n",
       "\n",
       "       elevation         timezone hourly_start hourly_end daily_start  \\\n",
       "id                                                                      \n",
       "KARB0      256.0  America/Detroit   2006-01-01 2023-11-17  2006-01-01   \n",
       "\n",
       "       daily_end monthly_start monthly_end   distance  \n",
       "id                                                     \n",
       "KARB0 2022-04-24    2006-01-01  2022-01-01  12.044687  "
      ]
     },
     "execution_count": 26,
     "metadata": {},
     "output_type": "execute_result"
    }
   ],
   "source": [
    "stations.fetch(1)"
   ]
  },
  {
   "cell_type": "code",
   "execution_count": 34,
   "id": "4a007cbb-6973-4cf7-820f-38d36ae2c6d3",
   "metadata": {},
   "outputs": [
    {
     "data": {
      "text/plain": [
       "'KARB0'"
      ]
     },
     "execution_count": 34,
     "metadata": {},
     "output_type": "execute_result"
    }
   ],
   "source": [
    "stations.fetch(1).index[0]"
   ]
  },
  {
   "cell_type": "code",
   "execution_count": 52,
   "id": "bb6f717a-939f-4cf7-bdf9-ee807e0169a1",
   "metadata": {},
   "outputs": [],
   "source": [
    "hourly  = Hourly(stations.fetch(1).index[0], start, end)"
   ]
  },
  {
   "cell_type": "code",
   "execution_count": 53,
   "id": "d500bd59-2aaa-47cc-9a63-1973853b0ebc",
   "metadata": {},
   "outputs": [
    {
     "data": {
      "text/plain": [
       "temp    0.0\n",
       "dwpt    0.0\n",
       "rhum    0.0\n",
       "prcp    0.0\n",
       "snow    1.0\n",
       "wdir    0.0\n",
       "wspd    0.0\n",
       "wpgt    1.0\n",
       "pres    0.0\n",
       "tsun    1.0\n",
       "coco    0.0\n",
       "dtype: float64"
      ]
     },
     "execution_count": 53,
     "metadata": {},
     "output_type": "execute_result"
    }
   ],
   "source": [
    "(hourly.fetch().isna()*1).mean()"
   ]
  },
  {
   "cell_type": "code",
   "execution_count": 66,
   "id": "aec35181-9574-4ef4-9c6f-f7f305740d51",
   "metadata": {},
   "outputs": [
    {
     "data": {
      "text/plain": [
       "dict_items([('KARB', (42.2231, -83.7453)), ('PANC', (61.1743, -149.9963)), ('KBOI', (43.5644, -116.2228)), ('KORD', (41.9742, -87.9073)), ('KDEN', (39.8561, -104.6737)), ('KDTW', (42.2125, -83.3533)), ('PHNL', (21.3187, -157.9225)), ('KIAH', (29.9844, -95.3414)), ('KMIA', (25.7933, -80.2906)), ('KMIC', (45.0628, -93.3533)), ('KOKC', (35.3931, -97.6008)), ('KBNA', (36.1244, -86.6782)), ('KJFK', (40.6397, -73.7789)), ('KPHX', (33.4342, -112.0117)), ('KPWM', (43.6461, -70.3092)), ('KPDX', (45.5886, -122.5975)), ('KSLC', (40.7884, -111.9778)), ('KSAN', (32.7336, -117.1897)), ('KSFO', (37.6189, -122.375)), ('KSEA', (47.4489, -122.3094)), ('KDCA', (38.8522, -77.0378))])"
      ]
     },
     "execution_count": 66,
     "metadata": {},
     "output_type": "execute_result"
    }
   ],
   "source": [
    "lat_lons.items()"
   ]
  },
  {
   "cell_type": "code",
   "execution_count": 69,
   "id": "c7f4874c-abba-4446-a3d2-873b23364a3a",
   "metadata": {},
   "outputs": [],
   "source": [
    "station_ids = []\n",
    "for icao, coords in lat_lons.items():\n",
    "    lat, lon = coords\n",
    "    station = stations.nearby(*coords).fetch(1)\n",
    "    station_ids.append(station.index[0])"
   ]
  },
  {
   "cell_type": "code",
   "execution_count": 76,
   "id": "27da3091-ee4c-4211-b6c7-4d8e71525fb8",
   "metadata": {},
   "outputs": [],
   "source": [
    "hourly_df = Hourly(loc = station_ids, start=start, end=end)"
   ]
  },
  {
   "cell_type": "code",
   "execution_count": 78,
   "id": "023f0228-742c-46d4-84df-77813b1f4b39",
   "metadata": {},
   "outputs": [],
   "source": [
    "hourly_df.fetch().to_csv(\"../data/hourly_data.csv\")"
   ]
  }
 ],
 "metadata": {
  "kernelspec": {
   "display_name": "Python 3 (ipykernel)",
   "language": "python",
   "name": "python3"
  },
  "language_info": {
   "codemirror_mode": {
    "name": "ipython",
    "version": 3
   },
   "file_extension": ".py",
   "mimetype": "text/x-python",
   "name": "python",
   "nbconvert_exporter": "python",
   "pygments_lexer": "ipython3",
   "version": "3.10.13"
  }
 },
 "nbformat": 4,
 "nbformat_minor": 5
}
