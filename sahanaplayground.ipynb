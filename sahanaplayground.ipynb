{
 "cells": [
  {
   "cell_type": "code",
   "execution_count": 6,
   "metadata": {},
   "outputs": [],
   "source": [
    "import numpy as np\n",
    "import pandas as pd\n",
    "import requests\n",
    "import datetime\n",
    "import matplotlib.pyplot as plt"
   ]
  },
  {
   "cell_type": "markdown",
   "metadata": {},
   "source": [
    "# Temperature data\n"
   ]
  },
  {
   "cell_type": "code",
   "execution_count": 3,
   "metadata": {},
   "outputs": [
    {
     "name": "stdout",
     "output_type": "stream",
     "text": [
      "                  date datatype            station attributes  value\n",
      "0  2018-01-01T00:00:00     TAVG  GHCND:AE000041196      H,,S,    186\n",
      "1  2018-01-01T00:00:00     TMAX  GHCND:AE000041196       ,,S,    259\n",
      "2  2018-01-01T00:00:00     TMIN  GHCND:AE000041196       ,,S,    112\n",
      "3  2018-01-01T00:00:00     PRCP  GHCND:AEM00041194       ,,S,      0\n",
      "4  2018-01-01T00:00:00     TAVG  GHCND:AEM00041194      H,,S,    209\n"
     ]
    }
   ],
   "source": [
    "api_key = 'WBmYeqGTZMphjzecIADAthdwDyQUcnbL'\n",
    "# url = 'https://www.ncei.noaa.gov/cdo-web/api/v2/datasets'\n",
    "url = \"https://www.ncei.noaa.gov/cdo-web/api/v2/data?datasetid=GHCND\"\n",
    "params = {\n",
    "    \"id\": \"GHCND\",\n",
    "    \"name\": \"Daily Summaries\",\n",
    "    \"datacoverage\": 1,\n",
    "    \"startdate\": \"2018-01-01\",\n",
    "    \"enddate\": \"2018-01-03\"\n",
    "}\n",
    "headers = {\n",
    "    'token': api_key\n",
    "}\n",
    "response = requests.get(url, headers=headers, params=params)\n",
    "data = response.json()\n",
    "df = pd.json_normalize(data, 'results')\n",
    "print(df.head())"
   ]
  },
  {
   "cell_type": "code",
   "execution_count": null,
   "metadata": {},
   "outputs": [],
   "source": [
    "def get_noaa_data(api_key, station_id, start_date, end_date):\n",
    "    base_url = \"https://www.ncdc.noaa.gov/cdo-web/api/v2/data\"\n",
    "    dataset = \"GHCND\"\n",
    "    params = {\n",
    "        \"datasetid\": dataset,\n",
    "        \"stationid\": station_id,\n",
    "        \"startdate\": start_date,\n",
    "        \"enddate\": end_date,\n",
    "        \"units\": \"metric\",\n",
    "        \"limit\": 1000\n",
    "    }\n",
    "    headers = {\n",
    "        \"token\": api_key\n",
    "    }\n",
    "    response = requests.get(base_url, headers=headers, params=params)\n",
    "    return response.json()"
   ]
  },
  {
   "cell_type": "code",
   "execution_count": null,
   "metadata": {},
   "outputs": [],
   "source": [
    "station_id = {\n",
    "    \"KARB\" : [\"GHCND:USC00200228\"], # Ann Arbor Airport \n",
    "    \"PANC\" : \"GHCND:USW00026451\",\n",
    "    \"KBOI\" : \"GHCND:USW00024131\",\n",
    "    \"KORD\" : \"GHCND:USW00094846\",\n",
    "    \"KDEN\" : \"GHCND:USW00023062\",\n",
    "    \"KDTW\" : \"GHCND:USW00014838\",\n",
    "    \"PHNL\" : \"GHCND:USW00022521\",\n",
    "\n",
    "\n",
    "}"
   ]
  },
  {
   "cell_type": "code",
   "execution_count": null,
   "metadata": {},
   "outputs": [],
   "source": [
    "new_url = \"https://www.ncei.noaa.gov/cdo-web/api/v2/stations\""
   ]
  },
  {
   "cell_type": "markdown",
   "metadata": {},
   "source": [
    "# Jonathan's data and code"
   ]
  },
  {
   "cell_type": "code",
   "execution_count": 9,
   "metadata": {},
   "outputs": [],
   "source": [
    "endpoint = \"https://aviationweather.gov/api/data/metar\"\n",
    "stations = [\"PANC\"]  # and other stations too\n",
    "params = {\"ids\": stations, \"format\": \"json\", \"hours\": 48}\n",
    "response = requests.get(endpoint, params=params)\n",
    "df = pd.DataFrame.from_records(response.json())"
   ]
  },
  {
   "cell_type": "code",
   "execution_count": 8,
   "metadata": {},
   "outputs": [],
   "source": [
    "df[\"reportTime\"] = pd.to_datetime(df[\"reportTime\"])\n",
    "df = df.loc[\n",
    "    (df[\"reportTime\"].dt.date == datetime.date(2023, 11, 19))  # or whatever the date is\n",
    "    & (df[\"metarType\"] == \"METAR\")\n",
    "][[\"temp\", \"precip\", \"snow\"]].agg([\"mean\", \"max\", \"min\", \"count\"])\n",
    "\n",
    "y_temp = df[\"temp\"][:3]\n",
    "y_snow = df[\"snow\"][\"max\"] > 0\n",
    "y_rain = df[\"precip\"][\"max\"] > 0"
   ]
  },
  {
   "cell_type": "markdown",
   "metadata": {},
   "source": [
    "# Sahana time"
   ]
  },
  {
   "cell_type": "code",
   "execution_count": null,
   "metadata": {},
   "outputs": [],
   "source": []
  }
 ],
 "metadata": {
  "kernelspec": {
   "display_name": "Python 3",
   "language": "python",
   "name": "python3"
  },
  "language_info": {
   "codemirror_mode": {
    "name": "ipython",
    "version": 3
   },
   "file_extension": ".py",
   "mimetype": "text/x-python",
   "name": "python",
   "nbconvert_exporter": "python",
   "pygments_lexer": "ipython3",
   "version": "3.10.13"
  }
 },
 "nbformat": 4,
 "nbformat_minor": 2
}
